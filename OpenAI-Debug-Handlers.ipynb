{
 "cells": [
  {
   "cell_type": "code",
   "execution_count": 1,
   "id": "5f69a590-7d76-46ce-9b0c-79c4ec331965",
   "metadata": {},
   "outputs": [],
   "source": [
    "from langchain.prompts import ChatPromptTemplate\n",
    "from langchain_openai import ChatOpenAI\n",
    "from langchain.chains import LLMChain\n",
    "import os"
   ]
  },
  {
   "cell_type": "code",
   "execution_count": 2,
   "id": "de7be279-ff81-471a-b3da-4499fbfe4a47",
   "metadata": {},
   "outputs": [],
   "source": [
    "#os.environ[\"OPENAI_API_\"]=\"Put your OpenAI API Keys here\""
   ]
  },
  {
   "cell_type": "code",
   "execution_count": 3,
   "id": "167f64e1-9402-4371-83fd-cb45ad2edfe0",
   "metadata": {},
   "outputs": [],
   "source": [
    "from langchain_core.callbacks import StdOutCallbackHandler\n",
    "handler = StdOutCallbackHandler()"
   ]
  },
  {
   "cell_type": "code",
   "execution_count": 4,
   "id": "086f3c2b-6d4a-4607-be30-aff21603af5c",
   "metadata": {},
   "outputs": [],
   "source": [
    "llm = ChatOpenAI()"
   ]
  },
  {
   "cell_type": "code",
   "execution_count": 5,
   "id": "4a486aa5-2335-44d2-882a-a0ef472ba122",
   "metadata": {},
   "outputs": [],
   "source": [
    "prompt=ChatPromptTemplate.from_messages([(\"system\",\"You are a {subject} teacher\"),\n",
    "                                         (\"human\",\"Tell me about {concept}\")])"
   ]
  },
  {
   "cell_type": "code",
   "execution_count": 6,
   "id": "8a39fc90-9d16-4170-b84b-73277c78b2aa",
   "metadata": {},
   "outputs": [
    {
     "name": "stderr",
     "output_type": "stream",
     "text": [
      "C:\\Users\\LotusBlue\\AppData\\Local\\Temp\\ipykernel_2312\\1305865249.py:1: LangChainDeprecationWarning: The class `LLMChain` was deprecated in LangChain 0.1.17 and will be removed in 1.0. Use :meth:`~RunnableSequence, e.g., `prompt | llm`` instead.\n",
      "  chain = LLMChain(llm=llm, prompt=prompt)\n"
     ]
    }
   ],
   "source": [
    "chain = LLMChain(llm=llm, prompt=prompt)"
   ]
  },
  {
   "cell_type": "code",
   "execution_count": 7,
   "id": "2266d85f-479a-41fb-831b-13d8d000b4ed",
   "metadata": {},
   "outputs": [
    {
     "data": {
      "text/plain": [
       "{'subject': 'Physics',\n",
       " 'concept': 'Star',\n",
       " 'text': 'There are various types of stars in the universe, but most of the stars we see in the night sky are classified as main sequence stars. These stars, like our Sun, shine brightly due to nuclear fusion reactions happening in their cores. \\n\\nStars are massive spheres of hot gas, mostly made up of hydrogen and helium, which generate light and heat through nuclear fusion. This fusion process involves hydrogen atoms combining to form helium, releasing a tremendous amount of energy in the form of light and heat.\\n\\nThe life cycle of a star can vary depending on its mass. For example, low mass stars like red dwarfs can burn for trillions of years, while massive stars like blue giants have much shorter lifespans. Eventually, all stars will exhaust their nuclear fuel and undergo changes such as expanding into red giants, shedding their outer layers as planetary nebulae, and then either collapsing into white dwarfs, neutron stars, or even black holes.\\n\\nStudying stars and their properties has contributed significantly to our understanding of the universe, including the development of theories like stellar evolution and the formation of galaxies. Stars play a crucial role in the structure and dynamics of the cosmos, influencing everything from the formation of planetary systems to the creation of heavy elements through supernova explosions.'}"
      ]
     },
     "execution_count": 7,
     "metadata": {},
     "output_type": "execute_result"
    }
   ],
   "source": [
    "chain.invoke({\"subject\":\"Physics\",\"concept\":\"Star\"})"
   ]
  },
  {
   "cell_type": "code",
   "execution_count": 8,
   "id": "3f2a9c2b-b38f-435a-a561-45025ef082dd",
   "metadata": {},
   "outputs": [],
   "source": [
    "chain = LLMChain(llm=llm, prompt=prompt, callbacks=[handler])"
   ]
  },
  {
   "cell_type": "code",
   "execution_count": 9,
   "id": "cdf14ea9-de1c-4e0f-9ecf-9b1241c072cd",
   "metadata": {},
   "outputs": [
    {
     "name": "stdout",
     "output_type": "stream",
     "text": [
      "\n",
      "\n",
      "\u001b[1m> Entering new LLMChain chain...\u001b[0m\n",
      "Prompt after formatting:\n",
      "\u001b[32;1m\u001b[1;3mSystem: You are a Physics teacher\n",
      "Human: Tell me about Star\u001b[0m\n",
      "\n",
      "\u001b[1m> Finished chain.\u001b[0m\n"
     ]
    },
    {
     "data": {
      "text/plain": [
       "{'subject': 'Physics',\n",
       " 'concept': 'Star',\n",
       " 'text': 'Stars are massive celestial bodies made up of gases, primarily hydrogen and helium. They produce energy through nuclear fusion in their cores, where hydrogen nuclei combine to form helium, releasing large amounts of energy in the process. This energy production is what makes stars shine brightly in the sky.\\n\\nStars vary in size, temperature, and brightness, with the largest and hottest stars emitting the most light and energy. The classification of stars is based on a system called the Hertzsprung-Russell diagram, which categorizes stars based on their temperature and luminosity.\\n\\nStars play a crucial role in the universe by creating heavy elements through nuclear fusion and dispersing them into space when they die in explosive events like supernovae. These elements form the building blocks for new stars, planets, and eventually life itself.\\n\\nOverall, stars are fundamental components of the universe, shaping its evolution and providing light, heat, and energy to sustain life on planets like Earth.'}"
      ]
     },
     "execution_count": 9,
     "metadata": {},
     "output_type": "execute_result"
    }
   ],
   "source": [
    "chain.invoke({\"subject\":\"Physics\",\"concept\":\"Star\"})"
   ]
  },
  {
   "cell_type": "code",
   "execution_count": null,
   "id": "687ec909-f98d-4c01-bc94-2f592c064d28",
   "metadata": {},
   "outputs": [],
   "source": []
  }
 ],
 "metadata": {
  "kernelspec": {
   "display_name": "Python [conda env:base] *",
   "language": "python",
   "name": "conda-base-py"
  },
  "language_info": {
   "codemirror_mode": {
    "name": "ipython",
    "version": 3
   },
   "file_extension": ".py",
   "mimetype": "text/x-python",
   "name": "python",
   "nbconvert_exporter": "python",
   "pygments_lexer": "ipython3",
   "version": "3.12.7"
  }
 },
 "nbformat": 4,
 "nbformat_minor": 5
}
