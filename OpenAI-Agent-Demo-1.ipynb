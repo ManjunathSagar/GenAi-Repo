{
 "cells": [
  {
   "cell_type": "code",
   "execution_count": 1,
   "id": "af2a70f9-6811-454d-8def-e73b1f1e466b",
   "metadata": {},
   "outputs": [],
   "source": [
    "from langchain_core.prompts.chat import ChatPromptTemplate, MessagesPlaceholder\n",
    "from langchain_community.chat_message_histories import ChatMessageHistory\n",
    "from langchain_core.runnables.history import RunnableWithMessageHistory\n",
    "\n",
    "from langchain_openai import ChatOpenAI\n",
    "\n",
    "from langchain_community.tools.tavily_search import TavilySearchResults\n",
    "\n",
    "from langchain.agents import create_tool_calling_agent, tool\n",
    "from langchain.agents import AgentExecutor\n",
    "from langchain.agents import AgentType, initialize_agent, load_tools\n",
    "\n",
    "import os"
   ]
  },
  {
   "cell_type": "code",
   "execution_count": 2,
   "id": "74fff2ba-6b5a-492d-9a1f-be51f84d80e8",
   "metadata": {},
   "outputs": [],
   "source": [
    "#os.environ[\"TAVILY_API_KEY\"]=\"Put Your Tavily AI Keys here\"\n",
    "search = TavilySearchResults()"
   ]
  },
  {
   "cell_type": "code",
   "execution_count": 3,
   "id": "f065af7e-1e17-4a23-acc1-8eb4f9a9706e",
   "metadata": {},
   "outputs": [],
   "source": [
    "prompt = ChatPromptTemplate.from_messages(\n",
    "    [\n",
    "        (\"system\", \"You are a helpful assistant. Think step by step before responding.\"),\n",
    "        (\"placeholder\", \"{chat_history}\"),\n",
    "        (\"human\", \"{input}\"),\n",
    "        (\"placeholder\", \"{agent_scratchpad}\")\n",
    "    ]\n",
    ")"
   ]
  },
  {
   "cell_type": "code",
   "execution_count": 4,
   "id": "b3a8b6b6-29ad-4a62-babc-f3c302146f33",
   "metadata": {},
   "outputs": [],
   "source": [
    "#os.environ[\"OPENAI_API_KEY\"] = \"Put your OpenAI Api Keys here\"\n",
    "llm = ChatOpenAI()"
   ]
  },
  {
   "cell_type": "code",
   "execution_count": 5,
   "id": "85c2b208-91b5-441d-b4c2-71da6a8b8327",
   "metadata": {},
   "outputs": [],
   "source": [
    "tools=[search]"
   ]
  },
  {
   "cell_type": "code",
   "execution_count": 6,
   "id": "7e129fad-482f-44e0-bdc4-85817261d30c",
   "metadata": {},
   "outputs": [],
   "source": [
    "message_history = ChatMessageHistory()"
   ]
  },
  {
   "cell_type": "code",
   "execution_count": 7,
   "id": "514c153b-7816-46e8-b3d2-7882f51ad96a",
   "metadata": {},
   "outputs": [],
   "source": [
    "agent = create_tool_calling_agent(llm, tools, prompt)"
   ]
  },
  {
   "cell_type": "code",
   "execution_count": 8,
   "id": "3b3cc4e0-78b6-4408-a160-1f82f91c2904",
   "metadata": {},
   "outputs": [],
   "source": [
    "agent_executor = AgentExecutor(agent=agent, tools=tools, verbose=False)"
   ]
  },
  {
   "cell_type": "code",
   "execution_count": 9,
   "id": "455dcef5-2407-4d38-9b51-19d9986bb2b3",
   "metadata": {},
   "outputs": [],
   "source": [
    "agent1 = RunnableWithMessageHistory(\n",
    "    agent_executor,\n",
    "    lambda session_id: message_history,\n",
    "    input_messages_key=\"input\",\n",
    "    history_messages_key=\"chat_history\",\n",
    ")"
   ]
  },
  {
   "cell_type": "code",
   "execution_count": 10,
   "id": "a214dc78-4070-496e-9d31-7e2a474c2ea7",
   "metadata": {},
   "outputs": [
    {
     "name": "stdout",
     "output_type": "stream",
     "text": [
      "The ICC Men's T20 World Cup 2024 is scheduled to be held from June 1 to June 29. The tournament will take place in the Caribbean and the United States with 20 teams competing.\n"
     ]
    }
   ],
   "source": [
    "response=agent1.invoke({\"input\": \"When is the ICC Men's T20 2024 World Cup scheduled?\"},config={\"configurable\": {\"session_id\": \"session1\"}})\n",
    "print(response['output'])"
   ]
  },
  {
   "cell_type": "code",
   "execution_count": null,
   "id": "94f1eb3d-9234-4c80-8013-8d077ba80611",
   "metadata": {},
   "outputs": [],
   "source": []
  }
 ],
 "metadata": {
  "kernelspec": {
   "display_name": "Python [conda env:base] *",
   "language": "python",
   "name": "conda-base-py"
  },
  "language_info": {
   "codemirror_mode": {
    "name": "ipython",
    "version": 3
   },
   "file_extension": ".py",
   "mimetype": "text/x-python",
   "name": "python",
   "nbconvert_exporter": "python",
   "pygments_lexer": "ipython3",
   "version": "3.12.7"
  }
 },
 "nbformat": 4,
 "nbformat_minor": 5
}
