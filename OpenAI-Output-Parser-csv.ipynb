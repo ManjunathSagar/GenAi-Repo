{
 "cells": [
  {
   "cell_type": "code",
   "execution_count": 1,
   "id": "1ca5c8d4",
   "metadata": {},
   "outputs": [],
   "source": [
    "from langchain.prompts import PromptTemplate\n",
    "from langchain_openai import OpenAI\n",
    "from langchain.output_parsers.list import ListOutputParser\n",
    "from langchain.output_parsers import CommaSeparatedListOutputParser\n",
    "import os"
   ]
  },
  {
   "cell_type": "code",
   "execution_count": 2,
   "id": "313a773b",
   "metadata": {},
   "outputs": [],
   "source": [
    "#os.environ[\"OPENAI_API_\"]=\"Put your OpenAI API Keys here\""
   ]
  },
  {
   "cell_type": "code",
   "execution_count": 3,
   "id": "1d22a0aa",
   "metadata": {},
   "outputs": [],
   "source": [
    "llm = OpenAI()"
   ]
  },
  {
   "cell_type": "code",
   "execution_count": 4,
   "id": "15a19244",
   "metadata": {},
   "outputs": [],
   "source": [
    "prompt = PromptTemplate(\n",
    "    template=\"List 3 {items}\",\n",
    "    input_variables=[\"items\"])"
   ]
  },
  {
   "cell_type": "code",
   "execution_count": 5,
   "id": "f703565a",
   "metadata": {},
   "outputs": [
    {
     "name": "stdout",
     "output_type": "stream",
     "text": [
      "\n",
      "1. India\n",
      "2. Australia\n",
      "3. England\n"
     ]
    }
   ],
   "source": [
    "print(llm.invoke(input=prompt.format(items=\"countries that play cricket in world cup\")))"
   ]
  },
  {
   "cell_type": "code",
   "execution_count": 6,
   "id": "cde4b4ad",
   "metadata": {},
   "outputs": [],
   "source": [
    "output_parser = CommaSeparatedListOutputParser()\n",
    "format_instructions = output_parser.get_format_instructions()"
   ]
  },
  {
   "cell_type": "code",
   "execution_count": 7,
   "id": "86cba42c",
   "metadata": {},
   "outputs": [
    {
     "name": "stdout",
     "output_type": "stream",
     "text": [
      "Your response should be a list of comma separated values, eg: `foo, bar, baz` or `foo,bar,baz`\n"
     ]
    }
   ],
   "source": [
    "print(format_instructions)"
   ]
  },
  {
   "cell_type": "code",
   "execution_count": 8,
   "id": "a6d65e9d",
   "metadata": {},
   "outputs": [],
   "source": [
    "prompt = PromptTemplate(\n",
    "    template=\"List 3 {items}.\\n{format_instructions}\",\n",
    "    input_variables=[\"items\"],\n",
    "    partial_variables={\"format_instructions\": format_instructions})"
   ]
  },
  {
   "cell_type": "code",
   "execution_count": 9,
   "id": "74fc0ebe",
   "metadata": {},
   "outputs": [],
   "source": [
    "final_prompt = prompt.format(items=\"countries that play cricket in world cup\")"
   ]
  },
  {
   "cell_type": "code",
   "execution_count": 10,
   "id": "c5ccc26d",
   "metadata": {},
   "outputs": [
    {
     "data": {
      "text/plain": [
       "'List 3 countries that play cricket in world cup.\\nYour response should be a list of comma separated values, eg: `foo, bar, baz` or `foo,bar,baz`'"
      ]
     },
     "execution_count": 10,
     "metadata": {},
     "output_type": "execute_result"
    }
   ],
   "source": [
    "final_prompt"
   ]
  },
  {
   "cell_type": "code",
   "execution_count": 11,
   "id": "3c3f4671",
   "metadata": {},
   "outputs": [],
   "source": [
    "output = llm.invoke(input=final_prompt)"
   ]
  },
  {
   "cell_type": "code",
   "execution_count": 12,
   "id": "751c2601",
   "metadata": {},
   "outputs": [
    {
     "name": "stdout",
     "output_type": "stream",
     "text": [
      "India, Australia, England\n"
     ]
    }
   ],
   "source": [
    "print(output.strip())"
   ]
  },
  {
   "cell_type": "code",
   "execution_count": 13,
   "id": "5b01b4e2",
   "metadata": {},
   "outputs": [
    {
     "data": {
      "text/plain": [
       "str"
      ]
     },
     "execution_count": 13,
     "metadata": {},
     "output_type": "execute_result"
    }
   ],
   "source": [
    "type(output)"
   ]
  },
  {
   "cell_type": "code",
   "execution_count": null,
   "id": "d0b8bc6b",
   "metadata": {},
   "outputs": [],
   "source": []
  }
 ],
 "metadata": {
  "kernelspec": {
   "display_name": "Python 3 (ipykernel)",
   "language": "python",
   "name": "python3"
  },
  "language_info": {
   "codemirror_mode": {
    "name": "ipython",
    "version": 3
   },
   "file_extension": ".py",
   "mimetype": "text/x-python",
   "name": "python",
   "nbconvert_exporter": "python",
   "pygments_lexer": "ipython3",
   "version": "3.9.12"
  }
 },
 "nbformat": 4,
 "nbformat_minor": 5
}
