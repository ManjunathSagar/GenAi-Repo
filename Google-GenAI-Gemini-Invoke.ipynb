{
 "cells": [
  {
   "cell_type": "code",
   "execution_count": 1,
   "id": "18ddd666",
   "metadata": {},
   "outputs": [],
   "source": [
    "from langchain_google_genai import GoogleGenerativeAI\n",
    "import os"
   ]
  },
  {
   "cell_type": "code",
   "execution_count": 2,
   "id": "18ba3b00",
   "metadata": {},
   "outputs": [],
   "source": [
    "#os.environ[\"GOOGLE_API_KEY\"]=\"Your Google GenAI Gemini API Keys here\""
   ]
  },
  {
   "cell_type": "code",
   "execution_count": 3,
   "id": "590f777c",
   "metadata": {},
   "outputs": [],
   "source": [
    "llm = GoogleGenerativeAI(model=\"gemini-pro\")"
   ]
  },
  {
   "cell_type": "code",
   "execution_count": 4,
   "id": "0568dc64",
   "metadata": {},
   "outputs": [],
   "source": [
    "text = \"What would be a good company name for a company that makes toys for kids?\""
   ]
  },
  {
   "cell_type": "code",
   "execution_count": 5,
   "id": "04dc7570",
   "metadata": {},
   "outputs": [
    {
     "name": "stdout",
     "output_type": "stream",
     "text": [
      "* Joyful Wonders\n",
      "* Playful Adventures\n",
      "* Imagination Emporium\n",
      "* KidZone Delights\n",
      "* Little Smiles Factory\n",
      "* Creative Minds Workshop\n",
      "* Toytopia\n",
      "* Fantasy Realm Toys\n",
      "* Wonder and Play\n",
      "* Happy Hearts Haven\n"
     ]
    }
   ],
   "source": [
    "print(llm.invoke(text))"
   ]
  },
  {
   "cell_type": "code",
   "execution_count": null,
   "id": "e1915d69",
   "metadata": {},
   "outputs": [],
   "source": []
  }
 ],
 "metadata": {
  "kernelspec": {
   "display_name": "Python 3 (ipykernel)",
   "language": "python",
   "name": "python3"
  },
  "language_info": {
   "codemirror_mode": {
    "name": "ipython",
    "version": 3
   },
   "file_extension": ".py",
   "mimetype": "text/x-python",
   "name": "python",
   "nbconvert_exporter": "python",
   "pygments_lexer": "ipython3",
   "version": "3.9.12"
  }
 },
 "nbformat": 4,
 "nbformat_minor": 5
}
