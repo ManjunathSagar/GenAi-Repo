{
 "cells": [
  {
   "cell_type": "code",
   "execution_count": 1,
   "id": "995e1926",
   "metadata": {},
   "outputs": [],
   "source": [
    "from langchain.prompts import PromptTemplate\n",
    "from langchain_openai import OpenAI\n",
    "from langchain.output_parsers.list import ListOutputParser\n",
    "from langchain_core.output_parsers import JsonOutputParser\n",
    "import json\n",
    "import os"
   ]
  },
  {
   "cell_type": "code",
   "execution_count": 2,
   "id": "4da94b2e",
   "metadata": {},
   "outputs": [],
   "source": [
    "#os.environ[\"OPENAI_API_\"]=\"Put your OpenAI API Keys here\""
   ]
  },
  {
   "cell_type": "code",
   "execution_count": 3,
   "id": "92754c84",
   "metadata": {},
   "outputs": [],
   "source": [
    "llm = OpenAI()"
   ]
  },
  {
   "cell_type": "code",
   "execution_count": 4,
   "id": "e793cb37",
   "metadata": {},
   "outputs": [],
   "source": [
    "prompt = PromptTemplate(\n",
    "    template=\"List 3 countries in {continent} and their capitals\",\n",
    "    input_variables=[\"continent\"])"
   ]
  },
  {
   "cell_type": "code",
   "execution_count": 5,
   "id": "709f63e8",
   "metadata": {},
   "outputs": [
    {
     "name": "stdout",
     "output_type": "stream",
     "text": [
      "\n",
      "\n",
      "1. Japan - Tokyo\n",
      "2. China - Beijing\n",
      "3. India - New Delhi\n"
     ]
    }
   ],
   "source": [
    "print(llm.invoke(input=prompt.format(continent=\"Asia\")))"
   ]
  },
  {
   "cell_type": "code",
   "execution_count": 6,
   "id": "6c37c0ac",
   "metadata": {},
   "outputs": [
    {
     "name": "stdout",
     "output_type": "stream",
     "text": [
      "Return a JSON object.\n"
     ]
    }
   ],
   "source": [
    "output_parser = JsonOutputParser()\n",
    "format_instructions = output_parser.get_format_instructions()\n",
    "print(format_instructions)"
   ]
  },
  {
   "cell_type": "code",
   "execution_count": 7,
   "id": "ee7b8cb1",
   "metadata": {},
   "outputs": [],
   "source": [
    "prompt = PromptTemplate(\n",
    "    template=\"List 3 countries in {continent} and their capitals\\n{format_instructions}\",\n",
    "    input_variables=[\"continent\"],\n",
    "    partial_variables={\"format_instructions\": format_instructions})"
   ]
  },
  {
   "cell_type": "code",
   "execution_count": 8,
   "id": "0e965adc",
   "metadata": {},
   "outputs": [
    {
     "name": "stdout",
     "output_type": "stream",
     "text": [
      "List 3 countries in North America and their capitals\n",
      "Return a JSON object.\n"
     ]
    }
   ],
   "source": [
    "final_prompt = prompt.format(continent=\"North America\")\n",
    "print(final_prompt)"
   ]
  },
  {
   "cell_type": "code",
   "execution_count": 9,
   "id": "559fff25",
   "metadata": {},
   "outputs": [
    {
     "name": "stdout",
     "output_type": "stream",
     "text": [
      "\n",
      "\n",
      "{\n",
      "  \"Canada\": \"Ottawa\",\n",
      "  \"USA\": \"Washington D.C.\",\n",
      "  \"Mexico\": \"Mexico City\"\n",
      "}\n"
     ]
    }
   ],
   "source": [
    "output = llm.invoke(input=final_prompt)\n",
    "print(output)"
   ]
  },
  {
   "cell_type": "code",
   "execution_count": 10,
   "id": "cbb45912",
   "metadata": {},
   "outputs": [
    {
     "name": "stdout",
     "output_type": "stream",
     "text": [
      "{\"Canada\": \"Ottawa\", \"USA\": \"Washington D.C.\", \"Mexico\": \"Mexico City\"}\n"
     ]
    }
   ],
   "source": [
    "countries = output_parser.parse(output)\n",
    "print(json.dumps(countries))"
   ]
  },
  {
   "cell_type": "code",
   "execution_count": 11,
   "id": "b4e247bf",
   "metadata": {},
   "outputs": [
    {
     "data": {
      "text/plain": [
       "dict"
      ]
     },
     "execution_count": 11,
     "metadata": {},
     "output_type": "execute_result"
    }
   ],
   "source": [
    "type(countries)"
   ]
  },
  {
   "cell_type": "code",
   "execution_count": null,
   "id": "5a9928a6",
   "metadata": {},
   "outputs": [],
   "source": []
  }
 ],
 "metadata": {
  "kernelspec": {
   "display_name": "Python 3 (ipykernel)",
   "language": "python",
   "name": "python3"
  },
  "language_info": {
   "codemirror_mode": {
    "name": "ipython",
    "version": 3
   },
   "file_extension": ".py",
   "mimetype": "text/x-python",
   "name": "python",
   "nbconvert_exporter": "python",
   "pygments_lexer": "ipython3",
   "version": "3.9.12"
  }
 },
 "nbformat": 4,
 "nbformat_minor": 5
}
