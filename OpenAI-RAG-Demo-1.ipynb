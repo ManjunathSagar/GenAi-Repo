{
 "cells": [
  {
   "cell_type": "code",
   "execution_count": 1,
   "id": "4cea80ce-0092-4cdc-bfee-03ddea99ad7b",
   "metadata": {},
   "outputs": [],
   "source": [
    "from langchain_community.document_loaders import PyPDFLoader\n",
    "from langchain.text_splitter import RecursiveCharacterTextSplitter\n",
    "from langchain_openai import OpenAIEmbeddings\n",
    "from langchain_chroma import Chroma\n",
    "from langchain_openai import ChatOpenAI\n",
    "from langchain.prompts import PromptTemplate\n",
    "from langchain_core.runnables import RunnablePassthrough\n",
    "from langchain_core.output_parsers import StrOutputParser\n",
    "import os"
   ]
  },
  {
   "cell_type": "code",
   "execution_count": 2,
   "id": "fcc086ff-b663-423b-a8d0-22ed41d892da",
   "metadata": {},
   "outputs": [],
   "source": [
    "#os.environ[\"OPENAI_API_\"]=\"Put your OpenAI API Keys here\""
   ]
  },
  {
   "cell_type": "code",
   "execution_count": 3,
   "id": "f0e0ddb4-af5d-4086-bcfd-6f37bf982efe",
   "metadata": {},
   "outputs": [],
   "source": [
    "loader = PyPDFLoader(\"data/Leave-Policy.pdf\")"
   ]
  },
  {
   "cell_type": "code",
   "execution_count": 4,
   "id": "de58b9a5-154a-4407-9cf6-878564031f0f",
   "metadata": {},
   "outputs": [],
   "source": [
    "pages = loader.load_and_split()"
   ]
  },
  {
   "cell_type": "code",
   "execution_count": 5,
   "id": "29ca081f-0388-4527-a17a-359207ac08d0",
   "metadata": {},
   "outputs": [],
   "source": [
    "text_splitter = RecursiveCharacterTextSplitter(chunk_size = 200, chunk_overlap = 50)\n",
    "chunks = text_splitter.split_documents(pages)"
   ]
  },
  {
   "cell_type": "code",
   "execution_count": 6,
   "id": "4a2ab721-a087-4c0b-92e9-d227307f6579",
   "metadata": {},
   "outputs": [],
   "source": [
    "embeddings = OpenAIEmbeddings(model=\"text-embedding-3-large\")"
   ]
  },
  {
   "cell_type": "code",
   "execution_count": 7,
   "id": "3229de62-3343-42ef-bf48-429bc15b00de",
   "metadata": {},
   "outputs": [],
   "source": [
    "vectorstore = Chroma.from_documents(documents=chunks, embedding=embeddings)"
   ]
  },
  {
   "cell_type": "code",
   "execution_count": 8,
   "id": "794070b9-24f9-41c9-b40f-96a2d4a585f0",
   "metadata": {},
   "outputs": [],
   "source": [
    "retriever = vectorstore.as_retriever()"
   ]
  },
  {
   "cell_type": "code",
   "execution_count": 9,
   "id": "0d33de92-6163-4717-adc6-a72bdd805c64",
   "metadata": {},
   "outputs": [],
   "source": [
    "def format_docs(docs):\n",
    "    return \"\\n\\n\".join(doc.page_content for doc in docs)"
   ]
  },
  {
   "cell_type": "code",
   "execution_count": 10,
   "id": "35519acd-b142-43f0-bb9c-a2b7717297eb",
   "metadata": {},
   "outputs": [],
   "source": [
    "llm = ChatOpenAI()"
   ]
  },
  {
   "cell_type": "code",
   "execution_count": 11,
   "id": "8992fbe5-938a-44e5-a366-f069c2f26fd6",
   "metadata": {},
   "outputs": [],
   "source": [
    "template = \"\"\"SYSTEM: You are a question answer bot. \n",
    "                 Be factual in your response.\n",
    "                 Respond to the following question: {question} only from \n",
    "                 the below context :{context}. \n",
    "                 If you don't know the answer, just say that you don't know.\n",
    "               \"\"\"\n",
    "prompt = PromptTemplate.from_template(template)"
   ]
  },
  {
   "cell_type": "code",
   "execution_count": 12,
   "id": "d5e85652-01d8-409e-8309-4c888e9be5c1",
   "metadata": {},
   "outputs": [],
   "source": [
    "chain = (\n",
    "    {\"context\": retriever | format_docs, \"question\": RunnablePassthrough()}\n",
    "    | prompt\n",
    "    | llm\n",
    "    | StrOutputParser()\n",
    ")"
   ]
  },
  {
   "cell_type": "code",
   "execution_count": 13,
   "id": "e41849ba-eaa7-45e4-aedf-6ffbb0f13662",
   "metadata": {},
   "outputs": [
    {
     "data": {
      "text/plain": [
       "'Employees are entitled to nine days of sick leave per annum. Effective January 1st, 2021, sick leave cannot be accumulated or encashed for both existing and new employees. Employees must inform their line manager on the first day of absence due to a medical condition. Misuse of sick leave may result in disciplinary action or termination.'"
      ]
     },
     "execution_count": 13,
     "metadata": {},
     "output_type": "execute_result"
    }
   ],
   "source": [
    "chain.invoke(\"What's the sick leave policy?\")"
   ]
  },
  {
   "cell_type": "code",
   "execution_count": null,
   "id": "65410adc-36c0-4a01-a6f2-5b8fc1fad423",
   "metadata": {},
   "outputs": [],
   "source": []
  }
 ],
 "metadata": {
  "kernelspec": {
   "display_name": "Python [conda env:base] *",
   "language": "python",
   "name": "conda-base-py"
  },
  "language_info": {
   "codemirror_mode": {
    "name": "ipython",
    "version": 3
   },
   "file_extension": ".py",
   "mimetype": "text/x-python",
   "name": "python",
   "nbconvert_exporter": "python",
   "pygments_lexer": "ipython3",
   "version": "3.12.7"
  }
 },
 "nbformat": 4,
 "nbformat_minor": 5
}
