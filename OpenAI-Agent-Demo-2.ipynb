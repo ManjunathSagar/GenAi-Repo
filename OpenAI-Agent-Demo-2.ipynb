{
 "cells": [
  {
   "cell_type": "code",
   "execution_count": 1,
   "id": "5a6746fe-6ac7-4858-ae26-7806c6f486d8",
   "metadata": {},
   "outputs": [],
   "source": [
    "from langchain_core.prompts.chat import ChatPromptTemplate, MessagesPlaceholder\n",
    "from langchain_community.chat_message_histories import ChatMessageHistory\n",
    "from langchain_core.runnables.history import RunnableWithMessageHistory\n",
    "\n",
    "from langchain_openai import ChatOpenAI\n",
    "\n",
    "from langchain_community.tools.tavily_search import TavilySearchResults\n",
    "from langchain_experimental.tools import PythonREPLTool\n",
    "\n",
    "from langchain.agents import create_tool_calling_agent, tool\n",
    "from langchain.agents import AgentExecutor\n",
    "\n",
    "from langchain.agents import AgentType, initialize_agent, load_tools\n",
    "\n",
    "import os"
   ]
  },
  {
   "cell_type": "code",
   "execution_count": 2,
   "id": "530230d9-f96c-4145-9a05-97e728802448",
   "metadata": {},
   "outputs": [],
   "source": [
    "#os.environ[\"TAVILY_API_KEY\"]=\"Put your Tavily key here\"\n",
    "search = TavilySearchResults()\n",
    "python = PythonREPLTool()"
   ]
  },
  {
   "cell_type": "code",
   "execution_count": 3,
   "id": "521f74a2-58c5-4437-b9c8-241eee012232",
   "metadata": {},
   "outputs": [],
   "source": [
    "prompt = ChatPromptTemplate.from_messages(\n",
    "    [\n",
    "        (\"system\", \"You are a helpful assistant. Think step by step before responding.\"),\n",
    "        (\"placeholder\", \"{chat_history}\"),\n",
    "        (\"human\", \"{input}\"),\n",
    "        (\"placeholder\", \"{agent_scratchpad}\")\n",
    "    ]\n",
    ")"
   ]
  },
  {
   "cell_type": "code",
   "execution_count": 4,
   "id": "2ecb63ad-2f30-403f-9168-9c14096ef0a9",
   "metadata": {},
   "outputs": [],
   "source": [
    "#os.environ[\"OPENAI_API_KEY\"] = \"Put your OpenAI key here\"\n",
    "llm = ChatOpenAI()"
   ]
  },
  {
   "cell_type": "code",
   "execution_count": 5,
   "id": "251a9809-6c26-417e-873b-c7c65aca3050",
   "metadata": {},
   "outputs": [],
   "source": [
    "tools=[search, python]"
   ]
  },
  {
   "cell_type": "code",
   "execution_count": 6,
   "id": "a8ae9fef-72c4-4719-a73f-a1cae952ad21",
   "metadata": {},
   "outputs": [],
   "source": [
    "message_history = ChatMessageHistory()"
   ]
  },
  {
   "cell_type": "code",
   "execution_count": 7,
   "id": "325ea954-23b1-4536-9af3-1ebb5113d258",
   "metadata": {},
   "outputs": [],
   "source": [
    "agent = create_tool_calling_agent(llm, tools, prompt)"
   ]
  },
  {
   "cell_type": "code",
   "execution_count": 8,
   "id": "84c4d1df-cd26-4eb0-826b-378b88bc1829",
   "metadata": {},
   "outputs": [],
   "source": [
    "agent_executor = AgentExecutor(agent=agent, tools=tools, verbose=True)"
   ]
  },
  {
   "cell_type": "code",
   "execution_count": 9,
   "id": "a4a13664-eed9-418c-b337-cab6ad5ecd13",
   "metadata": {},
   "outputs": [],
   "source": [
    "agent1 = RunnableWithMessageHistory(\n",
    "    agent_executor,\n",
    "    lambda session_id: message_history,\n",
    "    input_messages_key=\"input\",\n",
    "    history_messages_key=\"chat_history\",\n",
    ")"
   ]
  },
  {
   "cell_type": "code",
   "execution_count": 10,
   "id": "bfe36649-d055-4381-92e1-89099e8fb26e",
   "metadata": {},
   "outputs": [
    {
     "name": "stdout",
     "output_type": "stream",
     "text": [
      "\n",
      "\n",
      "\u001b[1m> Entering new AgentExecutor chain...\u001b[0m\n",
      "\u001b[32;1m\u001b[1;3m\n",
      "Invoking: `tavily_search_results_json` with `{'query': \"ICC Men's T20 2024 World Cup schedule\"}`\n",
      "\n",
      "\n",
      "\u001b[0m\u001b[36;1m\u001b[1;3m[{'url': 'https://icccworldcup.com/wp-content/uploads/2024/01/Download-T20-World-Cup-2024-Schedule-PDF.pdf', 'content': \"ICC Men's T20 World Cup 2024 Schedule Match No Match Date Venue 1 USA v CANADA Sat, 1 June Dallas 2 WEST INDIES v PAPUA NEW GUINEA Sun, 2 June Guyana 3 NAMIBIA v OMAN Sun, 2 June Barbados 4 SL v SOUTH AFRICA Mon, 3 June New York 5 AFGHANISTAN v UGANDA Mon, 3 June Guyana 6 ENGLAND v SCOTLAND Tue, 4 June Barbados 7 NETHERLANDS v NEPAL Tue, 4\"}, {'url': 'https://www.icc-cricket.com/news/groups-fixtures-confirmed-for-icc-men-s-t20-world-cup-2024', 'content': \"6 June 2024 - NAMIBIA v SCOTLAND, Barbados\\nFri, 7 June 2024 - CANADA v IRELAND, New York\\nFri, 7 June 2024 - NEW ZEALAND v AFGHANISTAN, Guyana\\nFri, 7 June 2024 - SRI LANKA v BANGLADESH, Dallas\\nSat, 8 June 2024 - NETHERLANDS v SOUTH AFRICA, New York\\nSat, 8 June 2024 - AUSTRALIA v ENGLAND, Barbados\\nSat, 8 June 2024 - WEST INDIES v UGANDA, Guyana\\nSun, 9 June 2024 - INDIA v PAKISTAN, New York\\nSun, 9 June 2024 - OMAN v SCOTLAND, Antigua\\nMon, 10 June 2024 - SOUTH AFRICA v BANGLADESH, New York\\nTue, 11 June 2024 - PAKISTAN v CANADA, New York\\nTue, 11 June 2024 - SRI LANKA v NEPAL, Florida\\nTue, 11 June 2024 - AUSTRALIA v NAMIBIA, Antigua\\nWed, 12 June 2024 - USA v INDIA, New York\\nWed, 12 June 2024 - WEST INDIES v NEW ZEALAND, Trinidad\\nThur, 13 June 2024 - ENGLAND v OMAN, Antigua\\nThur, 13 June 2024 - BANGLADESH v NETHERLANDS, St. Vincent\\nThur, 13 June 2024 - AFGHANISTAN v PAPUA NEW GUINEA, Trinidad\\nFri, 14 June 2024 - USA v IRELAND, Florida\\nFri, 14 June 2024 - SOUTH AFRICA v NEPAL, St. Vincent\\nFri, 14 June 2024 - NEW ZEALAND v UGANDA, Trinidad\\nSat, 15 June 2024 - INDIA v CANADA, Florida\\nSat, 15 June 2024 - NAMIBIA v ENGLAND, Antigua\\nSat, 15 June 2024 - AUSTRALIA v SCOTLAND, St. Lucia\\nSun, 16 June 2024 - PAKISTAN v IRELAND, Florida\\nSun, 16 June 2024 - BANGLADESH v NEPAL, St. Vincent\\nSun, 16 June 2024 - SRI LANKA v NETHERLANDS, St. Lucia\\nMon, 17 June 2024 - NEW ZEALAND v Full fixtures for the ICC Men's T20 World Cup 2024\\nSat, 1 June 2024 - USA v CANADA, Dallas\\nSun, 2 June 2024 - WEST INDIES v PAPUA NEW GUINEA, Guyana\\nSun, 2 June 2024 - NAMIBIA v OMAN, Barbados\\nMon, 3 June 2024 - SL v SOUTH AFRICA, New York\\nMon, 3 June 2024 - AFGHANISTAN v UGANDA, Guyana\\nTue, 4 June 2024 - ENGLAND v SCOTLAND, Barbados\\nTue, 4 June 2024 - NETHERLANDS v NEPAL, Dallas\\nWed, 5 June 2024 - INDIA v IRELAND, New York\\nWed, 5 June 2024 - PAPUA NEW GUINEA v UGANDA, Guyana\\nWed, 5 June 2024 - AUSTRALIA v OMAN, Barbados\\nThur, 6 June 2024 - USA v PAKISTAN, Dallas\\nThur, C1 v A1, Barbados\\nThur, 20 June 2024 - B2 v D2, Antigua\\nFri, 21 June 2024 - B1 v D1, St. Lucia\\nFri, 21 June 2024 - A2 v C2, Barbados\\nSat, 22 June 2024 - A1 v D2, Antigua\\nSat, 22 June 2024 - C1 v B2, St. Vincent\\nSun, 23 June 2024 - A2 v B1, Barbados\\nSun, 23 June 2024 - C2 v D1, Antigua\\nMon, 24 June 2024 - B2 v A1, St. Lucia\\nMon, 24 June 2024 - C1 v D2, St. Vincent\\nWed, 26 June 2024 - 19 June 2024 - A2 v D1, Antigua\\nWed, 19 June 2024 - B1 v C2, St. Lucia\\nThur, 20 June 2024 -\"}, {'url': 'https://www.cricbuzz.com/cricket-series/7476/icc-mens-t20-world-cup-2024/matches', 'content': 'SRI LANKA vs SOUTH AFRICA, 4th Match, Group D NEW ZEALAND vs AFGHANISTAN, 14th Match, Group C AUSTRALIA vs ENGLAND, 17th Match, Group B INDIA vs PAKISTAN, 19th Match, Group A WEST INDIES vs NEW ZEALAND, 26th Match, Group C WEST INDIES vs AFGHANISTAN, 40th Match, Group C AUSTRALIA vs BANGLADESH, 44th Match, Super 8 Group 1 ENGLAND vs SOUTH AFRICA, 45th Match, Super 8 Group 2 UNITED STATES OF AMERICA vs WEST INDIES, 46th Match, Super 8 Group 2 INDIA vs BANGLADESH, 47th Match, Super 8 Group 1 AFGHANISTAN vs AUSTRALIA, 48th Match, Super 8 Group 1 UNITED STATES OF AMERICA vs ENGLAND, 49th Match, Super 8 Group 2 WEST INDIES vs SOUTH AFRICA, 50th Match, Super 8 Group 2'}, {'url': 'https://www.aljazeera.com/sports/2024/5/22/icc-mens-t20-world-cup-2024-groups-fixtures-and-full-match-schedule-india-vs-pakistan', 'content': \"The ICC Men's T20 World Cup is back. The International Cricket Council's Twenty20 tournament will be held in the Caribbean and the United States from June 1 to 29 and will see 20 teams compete\"}, {'url': 'https://www.espncricinfo.com/series/icc-men-s-t20-world-cup-2024-1411166/match-schedule-fixtures-and-results', 'content': \"44th Match, Super Eights, Group 1 (N) • North Sound, ICC Men's T20 World Cup 46th Match, Super Eights, Group 2 (N) • Bridgetown, ICC Men's T20 World Cup 48th Match, Super Eights, Group 1 (N) • Kingstown, ICC Men's T20 World Cup - 1st Match, Group A|P.N.G. vs West Indies - 2nd Match, Group C|Oman vs Namibia - 3rd Match, Group B|Sri Lanka vs South Africa - 4th Match, Group D|Afghanistan vs Uganda - 5th Match, Group C|Scotland vs England - 6th Match, Group B|Nepal vs Netherlands - 7th Match, Group D|Ireland vs India - 8th Match, Group A|P.N.G. vs Uganda - 9th Match, Group C|Australia vs Oman - 10th Match, Group B|Pakistan vs U.S.A. CAN|USA|PNG|WI|OMA|NAM|SL|SA|AFG|UGA|SCOT|ENG|NEP|NED|IRE|IND|AUS|PAK|NZ|BAN|\"}]\u001b[0m\u001b[32;1m\u001b[1;3mThe ICC Men's T20 World Cup 2024 is scheduled to be held from June 1 to June 29. The matches will take place in the Caribbean and the United States.\u001b[0m\n",
      "\n",
      "\u001b[1m> Finished chain.\u001b[0m\n",
      "The ICC Men's T20 World Cup 2024 is scheduled to be held from June 1 to June 29. The matches will take place in the Caribbean and the United States.\n"
     ]
    }
   ],
   "source": [
    "response=agent1.invoke({\"input\": \"When is the ICC Men's T20 2024 World Cup scheduled?\"},config={\"configurable\": {\"session_id\": \"session1\"}})\n",
    "print(response['output'])"
   ]
  },
  {
   "cell_type": "code",
   "execution_count": null,
   "id": "77b5af53-d7ed-47fd-81ab-30ec28309931",
   "metadata": {},
   "outputs": [],
   "source": []
  }
 ],
 "metadata": {
  "kernelspec": {
   "display_name": "Python [conda env:base] *",
   "language": "python",
   "name": "conda-base-py"
  },
  "language_info": {
   "codemirror_mode": {
    "name": "ipython",
    "version": 3
   },
   "file_extension": ".py",
   "mimetype": "text/x-python",
   "name": "python",
   "nbconvert_exporter": "python",
   "pygments_lexer": "ipython3",
   "version": "3.12.7"
  }
 },
 "nbformat": 4,
 "nbformat_minor": 5
}
