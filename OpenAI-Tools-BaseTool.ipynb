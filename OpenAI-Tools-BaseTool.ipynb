{
 "cells": [
  {
   "cell_type": "code",
   "execution_count": 1,
   "id": "e1791734-5580-466c-9b9d-8991b4124e82",
   "metadata": {},
   "outputs": [],
   "source": [
    "from langchain.tools import BaseTool, StructuredTool, tool\n",
    "from langchain_core.prompts import PromptTemplate\n",
    "from langchain_openai import OpenAI\n",
    "from langchain_core.output_parsers import StrOutputParser\n",
    "import os"
   ]
  },
  {
   "cell_type": "code",
   "execution_count": 2,
   "id": "4a8702b7-bb00-45da-8183-759cc2a8c78d",
   "metadata": {},
   "outputs": [],
   "source": [
    "#os.environ[\"OPENAI_API_KEY\"]=\"Put your OpenAI API Keys here\""
   ]
  },
  {
   "cell_type": "code",
   "execution_count": 3,
   "id": "fe173eb6-d11c-4fd3-8666-0d57601df1be",
   "metadata": {},
   "outputs": [],
   "source": [
    "@tool\n",
    "def GetFlightStatus(flight_no: str) -> str:\n",
    "    \"\"\"Get's flight status and schedule\"\"\"\n",
    "    #Invoke the real API\n",
    "    return f\"Flight {flight_no} departed at 5:20 PM. It is on-time and expected to arrive at 8:10 PM at Gate B12\""
   ]
  },
  {
   "cell_type": "code",
   "execution_count": 4,
   "id": "61ee55b6-b6eb-4f30-9f5c-14617e5ee2e5",
   "metadata": {},
   "outputs": [
    {
     "name": "stdout",
     "output_type": "stream",
     "text": [
      "GetFlightStatus\n",
      "Get's flight status and schedule\n",
      "{'flight_no': {'title': 'Flight No', 'type': 'string'}}\n"
     ]
    }
   ],
   "source": [
    "print(GetFlightStatus.name)\n",
    "print(GetFlightStatus.description)\n",
    "print(GetFlightStatus.args)"
   ]
  },
  {
   "cell_type": "code",
   "execution_count": 5,
   "id": "9783b3a3-a236-4931-9a7b-127fd13c0472",
   "metadata": {},
   "outputs": [],
   "source": [
    "prompt = PromptTemplate.from_template(\"Based on the context: {context}, \\n answer the query:{query} about flight:{flight} in one word. Answer only if you find the details in the context.\")"
   ]
  },
  {
   "cell_type": "code",
   "execution_count": 6,
   "id": "1f880a1e-2216-4146-8a6f-c493b227b083",
   "metadata": {},
   "outputs": [],
   "source": [
    "llm = OpenAI()"
   ]
  },
  {
   "cell_type": "code",
   "execution_count": 7,
   "id": "b82140b2-682b-4f89-bebb-4b4601a594d7",
   "metadata": {},
   "outputs": [],
   "source": [
    "flight = \"EK524\"\n",
    "context = GetFlightStatus.run(flight)"
   ]
  },
  {
   "cell_type": "code",
   "execution_count": 8,
   "id": "53b19c45-8730-426e-99be-9073853be386",
   "metadata": {},
   "outputs": [],
   "source": [
    "output_parser = StrOutputParser()"
   ]
  },
  {
   "cell_type": "code",
   "execution_count": 9,
   "id": "d5802e13-93c1-428f-90fd-e458912605f7",
   "metadata": {},
   "outputs": [],
   "source": [
    "chain = prompt | llm | output_parser"
   ]
  },
  {
   "cell_type": "code",
   "execution_count": 10,
   "id": "ab870dbe-5d14-45af-a863-eae5a8dad039",
   "metadata": {},
   "outputs": [
    {
     "data": {
      "text/plain": [
       "'\\n\\nOn-time'"
      ]
     },
     "execution_count": 10,
     "metadata": {},
     "output_type": "execute_result"
    }
   ],
   "source": [
    "chain.invoke({\"context\": context, \"query\": \"status\", \"flight\": flight})"
   ]
  },
  {
   "cell_type": "code",
   "execution_count": 11,
   "id": "07ce3a3a-28df-43af-bd16-df80bbaa8737",
   "metadata": {},
   "outputs": [
    {
     "data": {
      "text/plain": [
       "'\\n\\n5:20 PM'"
      ]
     },
     "execution_count": 11,
     "metadata": {},
     "output_type": "execute_result"
    }
   ],
   "source": [
    "chain.invoke({\"context\": context, \"query\": \"departure time\", \"flight\": flight})"
   ]
  },
  {
   "cell_type": "code",
   "execution_count": 12,
   "id": "38403088-addf-4c9d-8785-27b5a70ec20e",
   "metadata": {},
   "outputs": [
    {
     "data": {
      "text/plain": [
       "'\\n\\nExpected.'"
      ]
     },
     "execution_count": 12,
     "metadata": {},
     "output_type": "execute_result"
    }
   ],
   "source": [
    "chain.invoke({\"context\": context, \"query\": \"arrival time\", \"flight\": flight})"
   ]
  },
  {
   "cell_type": "code",
   "execution_count": 13,
   "id": "4bfcc282-6dda-4cce-be1f-47d9cacd34f9",
   "metadata": {},
   "outputs": [
    {
     "data": {
      "text/plain": [
       "'\\n\\nB12'"
      ]
     },
     "execution_count": 13,
     "metadata": {},
     "output_type": "execute_result"
    }
   ],
   "source": [
    "chain.invoke({\"context\": context, \"query\": \"gate\", \"flight\": flight})"
   ]
  }
 ],
 "metadata": {
  "kernelspec": {
   "display_name": "Python [conda env:base] *",
   "language": "python",
   "name": "conda-base-py"
  },
  "language_info": {
   "codemirror_mode": {
    "name": "ipython",
    "version": 3
   },
   "file_extension": ".py",
   "mimetype": "text/x-python",
   "name": "python",
   "nbconvert_exporter": "python",
   "pygments_lexer": "ipython3",
   "version": "3.12.7"
  }
 },
 "nbformat": 4,
 "nbformat_minor": 5
}
