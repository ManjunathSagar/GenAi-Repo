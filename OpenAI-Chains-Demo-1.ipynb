{
 "cells": [
  {
   "cell_type": "code",
   "execution_count": 1,
   "id": "a1b7ed2b-23c6-49a1-9c8f-4897f33d76fe",
   "metadata": {},
   "outputs": [
    {
     "name": "stderr",
     "output_type": "stream",
     "text": [
      "USER_AGENT environment variable not set, consider setting it to identify your requests.\n"
     ]
    }
   ],
   "source": [
    "from langchain_openai import ChatOpenAI\n",
    "from langchain_core.prompts import ChatPromptTemplate\n",
    "from langchain_community.document_loaders import WebBaseLoader\n",
    "from langchain.chains.combine_documents import create_stuff_documents_chain\n",
    "import os"
   ]
  },
  {
   "cell_type": "code",
   "execution_count": 2,
   "id": "a03e31c4-3a55-41ed-91e3-a9d152fb1ce9",
   "metadata": {},
   "outputs": [],
   "source": [
    "#os.environ[\"OPENAI_API_KEY\"]=\"Put your OpenAI API Keys here\""
   ]
  },
  {
   "cell_type": "code",
   "execution_count": 3,
   "id": "ec676688-ed1f-4caf-9c27-050c250d4062",
   "metadata": {},
   "outputs": [],
   "source": [
    "URL1=\"https://techcrunch.com/2024/02/27/microsoft-made-a-16-million-investment-in-mistral-ai/\"\n",
    "URL2=\"https://techcrunch.com/2024/03/28/ai21-labs-new-text-generating-ai-model-is-more-efficient-than-most/\""
   ]
  },
  {
   "cell_type": "code",
   "execution_count": 4,
   "id": "62bc5959-4994-4b4d-be47-42693ecf1960",
   "metadata": {},
   "outputs": [],
   "source": [
    "loader = WebBaseLoader([URL1, URL2])\n",
    "data = loader.load()"
   ]
  },
  {
   "cell_type": "code",
   "execution_count": 5,
   "id": "dec15944-e263-4778-919a-03bcc63808ba",
   "metadata": {},
   "outputs": [],
   "source": [
    "prompt = ChatPromptTemplate.from_messages(\n",
    "    [(\"system\", \"What models are launched by Mistral and AI21 Labs:\\n\\n{context}\")]\n",
    ")"
   ]
  },
  {
   "cell_type": "code",
   "execution_count": 6,
   "id": "e23d6075-b0bd-48fa-95d0-16d0e46e202a",
   "metadata": {},
   "outputs": [],
   "source": [
    "llm = ChatOpenAI(model=\"gpt-3.5-turbo\")"
   ]
  },
  {
   "cell_type": "code",
   "execution_count": 7,
   "id": "7439de44-5cf3-409b-8695-44865d4a05da",
   "metadata": {},
   "outputs": [],
   "source": [
    "chain = create_stuff_documents_chain(llm, prompt)"
   ]
  },
  {
   "cell_type": "code",
   "execution_count": 8,
   "id": "7ddaea99-7175-460e-b4c3-78180055214e",
   "metadata": {},
   "outputs": [
    {
     "data": {
      "text/plain": [
       "\"Mistral AI has launched Mistral Large, a large language model that rivals OpenAI's GPT-4, as well as a chat assistant. AI21 Labs has launched Jamba, a text-generating and -analyzing model that can handle more context than most models in the market.\""
      ]
     },
     "execution_count": 8,
     "metadata": {},
     "output_type": "execute_result"
    }
   ],
   "source": [
    "chain.invoke({\"context\": data})"
   ]
  },
  {
   "cell_type": "code",
   "execution_count": null,
   "id": "e708710f-8590-4a26-b315-e4866291d01f",
   "metadata": {},
   "outputs": [],
   "source": []
  }
 ],
 "metadata": {
  "kernelspec": {
   "display_name": "Python [conda env:base] *",
   "language": "python",
   "name": "conda-base-py"
  },
  "language_info": {
   "codemirror_mode": {
    "name": "ipython",
    "version": 3
   },
   "file_extension": ".py",
   "mimetype": "text/x-python",
   "name": "python",
   "nbconvert_exporter": "python",
   "pygments_lexer": "ipython3",
   "version": "3.12.7"
  }
 },
 "nbformat": 4,
 "nbformat_minor": 5
}
