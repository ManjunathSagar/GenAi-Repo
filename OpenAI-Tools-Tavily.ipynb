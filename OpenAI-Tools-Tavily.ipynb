{
 "cells": [
  {
   "cell_type": "code",
   "execution_count": 1,
   "id": "f59b2728-5c48-4d54-b58f-f415c8747889",
   "metadata": {},
   "outputs": [],
   "source": [
    "from langchain_community.tools.tavily_search import TavilySearchResults\n",
    "import os"
   ]
  },
  {
   "cell_type": "code",
   "execution_count": 2,
   "id": "a2e64a00-773d-45e6-9efd-19c2e9b6d977",
   "metadata": {},
   "outputs": [],
   "source": [
    "#os.environ[\"TAVILY_API_KEY\"]=\"Put your Tavily key here\""
   ]
  },
  {
   "cell_type": "code",
   "execution_count": 3,
   "id": "54482a5a-b6a6-4112-8c95-84c72cfe07b4",
   "metadata": {},
   "outputs": [],
   "source": [
    "tool = TavilySearchResults()"
   ]
  },
  {
   "cell_type": "code",
   "execution_count": 4,
   "id": "276699e7-07cf-46e5-97e2-72778685950e",
   "metadata": {},
   "outputs": [],
   "source": [
    "response = tool.invoke({\"query\": \"When is ICC Men's T20 World Cup 2024 starting?\"})"
   ]
  },
  {
   "cell_type": "code",
   "execution_count": 5,
   "id": "92cc5a56-0168-4f74-8b19-fcd95a90d571",
   "metadata": {},
   "outputs": [
    {
     "data": {
      "text/plain": [
       "[{'url': 'https://www.cricket.com.au/news/3990203',\n",
       "  'content': \"When does it start? The warm-up matches get underway this week for most nations but the 2024 men's T20 World Cup begins officially on Saturday, June 1 (10.30am Sunday, June 2 AEST) with the oldest\"},\n",
       " {'url': 'https://www.thesouthafrican.com/sport/cricket/full-fixtures-times-icc-mens-t20-world-cup-2024/',\n",
       "  'content': \"Check out all the fixtures and times for the ICC Men's T20 World Cup 2024 in USA and West Indies which gets underway on 1 June.\"},\n",
       " {'url': 'https://www.icc-cricket.com/media-releases/fixtures-revealed-for-historic-icc-men-s-t20-world-cup-2024-in-west-indies-and-the-usa',\n",
       "  'content': \"The fixtures for the ninth edition of the ICC Men's T20 World Cup have been revealed with the event to be co-hosted by the West Indies and the USA from 1 to 29 June 2024.\"},\n",
       " {'url': 'https://www.bbc.com/sport/cricket/articles/cj7mmedrjryo',\n",
       "  'content': \"A guide to the 2024 ICC Men's T20 World Cup in the United States and West Indies, which begins on 2 June and runs until 29 June.\"},\n",
       " {'url': 'https://www.sportingnews.com/us/cricket/news/2024-cricket-t20-world-cup-schedule-fixtures-results-matches-usa/7c3c00b8a5dba2ca6f6ec116',\n",
       "  'content': \"The International Cricket Council (ICC) has released the full schedule of the 2024 men's T20 Cricket World Cup, which will be held in the USA and West Indies this summer.\"}]"
      ]
     },
     "execution_count": 5,
     "metadata": {},
     "output_type": "execute_result"
    }
   ],
   "source": [
    "response"
   ]
  },
  {
   "cell_type": "code",
   "execution_count": 6,
   "id": "a75dbd6a-3a03-4fcd-87eb-651b1cf9358f",
   "metadata": {},
   "outputs": [
    {
     "data": {
      "text/plain": [
       "5"
      ]
     },
     "execution_count": 6,
     "metadata": {},
     "output_type": "execute_result"
    }
   ],
   "source": [
    "len (response)"
   ]
  },
  {
   "cell_type": "code",
   "execution_count": 7,
   "id": "0bab02ee-7abf-4941-a08a-7537a729925a",
   "metadata": {},
   "outputs": [
    {
     "data": {
      "text/plain": [
       "'https://www.cricket.com.au/news/3990203'"
      ]
     },
     "execution_count": 7,
     "metadata": {},
     "output_type": "execute_result"
    }
   ],
   "source": [
    "response [0] ['url']"
   ]
  },
  {
   "cell_type": "code",
   "execution_count": 8,
   "id": "ddee5495-2701-424e-98b1-89d8bab68dd4",
   "metadata": {},
   "outputs": [
    {
     "data": {
      "text/plain": [
       "\"When does it start? The warm-up matches get underway this week for most nations but the 2024 men's T20 World Cup begins officially on Saturday, June 1 (10.30am Sunday, June 2 AEST) with the oldest\""
      ]
     },
     "execution_count": 8,
     "metadata": {},
     "output_type": "execute_result"
    }
   ],
   "source": [
    "response [0] ['content']"
   ]
  }
 ],
 "metadata": {
  "kernelspec": {
   "display_name": "Python [conda env:base] *",
   "language": "python",
   "name": "conda-base-py"
  },
  "language_info": {
   "codemirror_mode": {
    "name": "ipython",
    "version": 3
   },
   "file_extension": ".py",
   "mimetype": "text/x-python",
   "name": "python",
   "nbconvert_exporter": "python",
   "pygments_lexer": "ipython3",
   "version": "3.12.7"
  }
 },
 "nbformat": 4,
 "nbformat_minor": 5
}
