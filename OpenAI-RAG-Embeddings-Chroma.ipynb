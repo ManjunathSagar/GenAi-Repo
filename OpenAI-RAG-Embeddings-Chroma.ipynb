{
 "cells": [
  {
   "cell_type": "code",
   "execution_count": 1,
   "id": "35ec40eb-f2a5-437e-9c9c-9aaac0dbdbe4",
   "metadata": {},
   "outputs": [],
   "source": [
    "from langchain_openai import OpenAIEmbeddings\n",
    "from langchain_chroma import Chroma\n",
    "import os"
   ]
  },
  {
   "cell_type": "code",
   "execution_count": 2,
   "id": "c1976407-f0f8-4ad9-b41e-3a88ba309517",
   "metadata": {},
   "outputs": [],
   "source": [
    "#os.environ[\"OPENAI_API_\"]=\"Put your OpenAI API Keys here\""
   ]
  },
  {
   "cell_type": "code",
   "execution_count": 3,
   "id": "f4b7ccdc-8cb1-4c95-a27e-bfbaef2260e7",
   "metadata": {},
   "outputs": [],
   "source": [
    "embeddings = OpenAIEmbeddings(model=\"text-embedding-3-large\")"
   ]
  },
  {
   "cell_type": "code",
   "execution_count": 4,
   "id": "6e890a26-4f0f-4ac6-9ff4-f778df84e093",
   "metadata": {},
   "outputs": [],
   "source": [
    "docs=[\n",
    "    \"Thrilling Finale Awaits: The Countdown to the Cricket World Cup Championship\",\n",
    "    \"Global Giants Clash: Football World Cup Semi-Finals Set the Stage for Epic Showdowns\",\n",
    "    \"Record Crowds and Unforgettable Moments: Highlights from the Cricket World Cup\",\n",
    "    \"From Underdogs to Contenders: Football World Cup Surprises and Breakout Stars\"\n",
    "]"
   ]
  },
  {
   "cell_type": "code",
   "execution_count": 5,
   "id": "aa2076b5-9c34-4a36-be6a-2c65725caf7d",
   "metadata": {},
   "outputs": [],
   "source": [
    "vectorstore = Chroma.from_texts(texts=docs, embedding=embeddings)"
   ]
  },
  {
   "cell_type": "code",
   "execution_count": 6,
   "id": "f8843a39-404a-4584-866e-e6fe34cbcd82",
   "metadata": {},
   "outputs": [
    {
     "data": {
      "text/plain": [
       "[Document(id='9a29b13a-537b-4d5c-b667-e9d5c06e9713', metadata={}, page_content='Record Crowds and Unforgettable Moments: Highlights from the Cricket World Cup'),\n",
       " Document(id='abc9e284-8071-467b-821c-d039f9648094', metadata={}, page_content='Thrilling Finale Awaits: The Countdown to the Cricket World Cup Championship')]"
      ]
     },
     "execution_count": 6,
     "metadata": {},
     "output_type": "execute_result"
    }
   ],
   "source": [
    "vectorstore.similarity_search('Rohit Sharma', 2)"
   ]
  },
  {
   "cell_type": "code",
   "execution_count": 7,
   "id": "871e6b30-fe1e-4833-ba99-a458f9fd1b4e",
   "metadata": {},
   "outputs": [
    {
     "data": {
      "text/plain": [
       "[Document(id='32c387f9-5061-4009-b417-41feb7962a87', metadata={}, page_content='From Underdogs to Contenders: Football World Cup Surprises and Breakout Stars'),\n",
       " Document(id='6dcd36ea-ac22-40f2-a4a7-b486befd4fb7', metadata={}, page_content='Global Giants Clash: Football World Cup Semi-Finals Set the Stage for Epic Showdowns')]"
      ]
     },
     "execution_count": 7,
     "metadata": {},
     "output_type": "execute_result"
    }
   ],
   "source": [
    "vectorstore.similarity_search('Lionel Messi', 2)"
   ]
  },
  {
   "cell_type": "code",
   "execution_count": null,
   "id": "0546451b-62bf-4593-9d18-34252c78873e",
   "metadata": {},
   "outputs": [],
   "source": []
  }
 ],
 "metadata": {
  "kernelspec": {
   "display_name": "Python [conda env:base] *",
   "language": "python",
   "name": "conda-base-py"
  },
  "language_info": {
   "codemirror_mode": {
    "name": "ipython",
    "version": 3
   },
   "file_extension": ".py",
   "mimetype": "text/x-python",
   "name": "python",
   "nbconvert_exporter": "python",
   "pygments_lexer": "ipython3",
   "version": "3.12.7"
  }
 },
 "nbformat": 4,
 "nbformat_minor": 5
}
