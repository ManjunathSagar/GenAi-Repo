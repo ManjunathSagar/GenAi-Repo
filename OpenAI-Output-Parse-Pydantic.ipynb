{
 "cells": [
  {
   "cell_type": "code",
   "execution_count": 1,
   "id": "4a9bf8ca",
   "metadata": {},
   "outputs": [],
   "source": [
    "from typing import List\n",
    "from langchain_openai import OpenAI\n",
    "#from langchain_core.pydantic_v1 import BaseModel, Field, validator\n",
    "from pydantic import BaseModel, Field\n",
    "from langchain.prompts import PromptTemplate\n",
    "from langchain.output_parsers import PydanticOutputParser\n",
    "import os"
   ]
  },
  {
   "cell_type": "code",
   "execution_count": 2,
   "id": "d604509f",
   "metadata": {},
   "outputs": [],
   "source": [
    "#os.environ[\"OPENAI_API_\"]=\"Put your OpenAI API Keys here\""
   ]
  },
  {
   "cell_type": "code",
   "execution_count": 3,
   "id": "c56d6ee5",
   "metadata": {},
   "outputs": [],
   "source": [
    "model = OpenAI()"
   ]
  },
  {
   "cell_type": "code",
   "execution_count": 4,
   "id": "9093df7d",
   "metadata": {},
   "outputs": [],
   "source": [
    "class Ticket(BaseModel):\n",
    "    date: str = Field(description=\"show date\")\n",
    "    time: str = Field(description=\"show time\")\n",
    "    theater: str = Field(description=\"theater name\")\n",
    "    count: int = Field(description=\"number of tickets\")\n",
    "    movie: str = Field(description=\"preferred movie\")"
   ]
  },
  {
   "cell_type": "code",
   "execution_count": 5,
   "id": "6b4b230b",
   "metadata": {},
   "outputs": [],
   "source": [
    "parser = PydanticOutputParser(pydantic_object=Ticket)"
   ]
  },
  {
   "cell_type": "code",
   "execution_count": 6,
   "id": "24e6c9c9",
   "metadata": {},
   "outputs": [],
   "source": [
    "ticket_template = '''\n",
    "  Book us a movie ticket for two this Friday at 6:00 PM. \n",
    "  Choose any theater, it doesn't matter. Send the confirmation by email.\n",
    "  Our preferred movie is: {query}\n",
    "  Format instructions:\n",
    "  {format_instructions}\n",
    "'''"
   ]
  },
  {
   "cell_type": "code",
   "execution_count": 7,
   "id": "386d1475",
   "metadata": {},
   "outputs": [],
   "source": [
    "prompt = PromptTemplate(\n",
    "    template=ticket_template,\n",
    "    input_variables=[\"query\"],\n",
    "    partial_variables={\"format_instructions\": parser.get_format_instructions()},\n",
    ")"
   ]
  },
  {
   "cell_type": "code",
   "execution_count": 8,
   "id": "f29f0911",
   "metadata": {},
   "outputs": [],
   "source": [
    "input = prompt.format_prompt(query=\"Interstellar\")"
   ]
  },
  {
   "cell_type": "code",
   "execution_count": 9,
   "id": "571c9eff",
   "metadata": {},
   "outputs": [
    {
     "name": "stdout",
     "output_type": "stream",
     "text": [
      "\n",
      "  Book us a movie ticket for two this Friday at 6:00 PM. \n",
      "  Choose any theater, it doesn't matter. Send the confirmation by email.\n",
      "  Our preferred movie is: Interstellar\n",
      "  Format instructions:\n",
      "  The output should be formatted as a JSON instance that conforms to the JSON schema below.\n",
      "\n",
      "As an example, for the schema {\"properties\": {\"foo\": {\"title\": \"Foo\", \"description\": \"a list of strings\", \"type\": \"array\", \"items\": {\"type\": \"string\"}}}, \"required\": [\"foo\"]}\n",
      "the object {\"foo\": [\"bar\", \"baz\"]} is a well-formatted instance of the schema. The object {\"properties\": {\"foo\": [\"bar\", \"baz\"]}} is not well-formatted.\n",
      "\n",
      "Here is the output schema:\n",
      "```\n",
      "{\"properties\": {\"date\": {\"description\": \"show date\", \"title\": \"Date\", \"type\": \"string\"}, \"time\": {\"description\": \"show time\", \"title\": \"Time\", \"type\": \"string\"}, \"theater\": {\"description\": \"theater name\", \"title\": \"Theater\", \"type\": \"string\"}, \"count\": {\"description\": \"number of tickets\", \"title\": \"Count\", \"type\": \"integer\"}, \"movie\": {\"description\": \"preferred movie\", \"title\": \"Movie\", \"type\": \"string\"}}, \"required\": [\"date\", \"time\", \"theater\", \"count\", \"movie\"]}\n",
      "```\n",
      "\n"
     ]
    }
   ],
   "source": [
    "print(input.to_string())"
   ]
  },
  {
   "cell_type": "code",
   "execution_count": 10,
   "id": "332c2d19",
   "metadata": {},
   "outputs": [],
   "source": [
    "output = model.invoke(input.to_string())"
   ]
  },
  {
   "cell_type": "code",
   "execution_count": 11,
   "id": "67901441",
   "metadata": {},
   "outputs": [
    {
     "name": "stdout",
     "output_type": "stream",
     "text": [
      "date='Friday' time='6:00 PM' theater='Any theater' count=2 movie='Interstellar'\n"
     ]
    }
   ],
   "source": [
    "parsed_response = parser.parse(output)\n",
    "print(parsed_response)"
   ]
  },
  {
   "cell_type": "code",
   "execution_count": 12,
   "id": "c21b2244",
   "metadata": {},
   "outputs": [
    {
     "data": {
      "text/plain": [
       "__main__.Ticket"
      ]
     },
     "execution_count": 12,
     "metadata": {},
     "output_type": "execute_result"
    }
   ],
   "source": [
    "type(parsed_response)"
   ]
  },
  {
   "cell_type": "code",
   "execution_count": null,
   "id": "d4467e9b",
   "metadata": {},
   "outputs": [],
   "source": []
  }
 ],
 "metadata": {
  "kernelspec": {
   "display_name": "Python 3 (ipykernel)",
   "language": "python",
   "name": "python3"
  },
  "language_info": {
   "codemirror_mode": {
    "name": "ipython",
    "version": 3
   },
   "file_extension": ".py",
   "mimetype": "text/x-python",
   "name": "python",
   "nbconvert_exporter": "python",
   "pygments_lexer": "ipython3",
   "version": "3.9.12"
  }
 },
 "nbformat": 4,
 "nbformat_minor": 5
}
