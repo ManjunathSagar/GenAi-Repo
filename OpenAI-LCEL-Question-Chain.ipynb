{
 "cells": [
  {
   "cell_type": "code",
   "execution_count": 1,
   "id": "66b7aa6f-561d-438e-af8c-8eddb6fa1c9c",
   "metadata": {},
   "outputs": [],
   "source": [
    "from langchain_openai import ChatOpenAI\n",
    "from langchain_core.prompts import ChatPromptTemplate\n",
    "from langchain_core.output_parsers import StrOutputParser\n",
    "import os"
   ]
  },
  {
   "cell_type": "code",
   "execution_count": 2,
   "id": "14377cde-4246-4189-a65c-598e52eb1849",
   "metadata": {},
   "outputs": [],
   "source": [
    "#os.environ[\"OPENAI_API_KEY\"]=\"Put your OpenAI API Keys here\""
   ]
  },
  {
   "cell_type": "code",
   "execution_count": 3,
   "id": "01372155-776f-4c66-8a70-1358a79c376e",
   "metadata": {},
   "outputs": [],
   "source": [
    "prompt = ChatPromptTemplate.from_template(\"\"\"\n",
    "    You are a helpful assistant. \n",
    "    Answer the following question: {question}\n",
    "    \"\"\")"
   ]
  },
  {
   "cell_type": "code",
   "execution_count": 4,
   "id": "5253c4c3-be8a-4581-9d97-a26b10f285fc",
   "metadata": {},
   "outputs": [],
   "source": [
    "llm = ChatOpenAI()"
   ]
  },
  {
   "cell_type": "code",
   "execution_count": 5,
   "id": "7a0789a8-56d8-4a8c-9026-4c55351793e2",
   "metadata": {},
   "outputs": [],
   "source": [
    "output_parser = StrOutputParser()"
   ]
  },
  {
   "cell_type": "code",
   "execution_count": 6,
   "id": "04dd2cdb-e293-40bd-86b6-234dcd900111",
   "metadata": {},
   "outputs": [],
   "source": [
    "chain = prompt | llm | output_parser"
   ]
  },
  {
   "cell_type": "code",
   "execution_count": 7,
   "id": "191d597b-a2b8-4f46-aacd-f1109c735947",
   "metadata": {},
   "outputs": [],
   "source": [
    "questions=[\n",
    "    {\"question\":\"Tell me about Mission Impossible Movie\"},\n",
    "    {\"question\":\"Tell me about SkyFall Movie\"}\n",
    "    ]"
   ]
  },
  {
   "cell_type": "code",
   "execution_count": 8,
   "id": "5835dcc8-2572-437c-b205-c20bc0d388dd",
   "metadata": {},
   "outputs": [],
   "source": [
    "response = chain.batch(questions)"
   ]
  },
  {
   "cell_type": "code",
   "execution_count": 9,
   "id": "c68e1ea6-6e5f-4bbc-aa72-48ee52f9b79a",
   "metadata": {},
   "outputs": [
    {
     "name": "stdout",
     "output_type": "stream",
     "text": [
      "\"Skyfall\" is the 23rd James Bond film produced by Eon Productions. It was released in 2012 and is the third film in the series to star Daniel Craig as James Bond. The film follows Bond as he investigates an attack on MI6, leading him to a confrontation with a former MI6 operative named Silva.\n",
      "\n",
      "\"Skyfall\" received widespread critical acclaim for its direction, cinematography, performances, and screenplay. It also was a commercial success, grossing over $1 billion worldwide. The film won several awards, including two Academy Awards for Best Original Song and Best Sound Editing.\n",
      "\n",
      "Overall, \"Skyfall\" is considered one of the best James Bond films and has been praised for its modern take on the character while still paying homage to the franchise's classic elements.\n"
     ]
    }
   ],
   "source": [
    "print(response[1])"
   ]
  },
  {
   "cell_type": "code",
   "execution_count": 20,
   "id": "8e6dd263-f62f-42a2-a94b-cdefa29e2e5b",
   "metadata": {},
   "outputs": [
    {
     "name": "stdout",
     "output_type": "stream",
     "text": [
      "\"Mission Impossible\" is a popular action spy film series that follows the adventures of Ethan Hunt, a skilled operative for the Impossible Missions Force (IMF). The franchise began in 1996 with the release of the first film directed by Brian De Palma and starring Tom Cruise as Ethan Hunt. The series has since spawned multiple sequels, with each film featuring elaborate action scenes, high-tech gadgets, and intricate plots involving espionage and high-stakes missions. The movies have been praised for their thrilling action sequences and Cruise's commitment to performing his own stunts. Overall, the \"Mission Impossible\" franchise has been a successful and enduring part of the action movie genre.\n"
     ]
    }
   ],
   "source": [
    "print(response[0])"
   ]
  },
  {
   "cell_type": "code",
   "execution_count": null,
   "id": "923263fa-2161-4ba5-9499-f84104fddc08",
   "metadata": {},
   "outputs": [],
   "source": []
  }
 ],
 "metadata": {
  "kernelspec": {
   "display_name": "Python [conda env:base] *",
   "language": "python",
   "name": "conda-base-py"
  },
  "language_info": {
   "codemirror_mode": {
    "name": "ipython",
    "version": 3
   },
   "file_extension": ".py",
   "mimetype": "text/x-python",
   "name": "python",
   "nbconvert_exporter": "python",
   "pygments_lexer": "ipython3",
   "version": "3.12.7"
  }
 },
 "nbformat": 4,
 "nbformat_minor": 5
}
