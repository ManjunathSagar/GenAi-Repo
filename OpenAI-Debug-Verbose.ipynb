{
 "cells": [
  {
   "cell_type": "code",
   "execution_count": 1,
   "id": "14c2059e-2ea1-4ee7-9021-f94382291acd",
   "metadata": {},
   "outputs": [],
   "source": [
    "from langchain.chains import LLMChain\n",
    "from langchain_openai import ChatOpenAI\n",
    "from langchain.prompts import ChatPromptTemplate\n",
    "from langchain_core.callbacks import StdOutCallbackHandler\n",
    "import os"
   ]
  },
  {
   "cell_type": "code",
   "execution_count": 2,
   "id": "90012c84-d8b9-431b-8818-d7b6ae9dfcbf",
   "metadata": {},
   "outputs": [],
   "source": [
    "#os.environ[\"OPENAI_API_\"]=\"Put your OpenAI API Keys here\""
   ]
  },
  {
   "cell_type": "code",
   "execution_count": 3,
   "id": "aa9ed153-ca42-406b-9508-98712517514b",
   "metadata": {},
   "outputs": [],
   "source": [
    "prompt=ChatPromptTemplate.from_messages([(\"system\",\"You are a {subject} teacher\"),\n",
    "                                                  (\"human\",\"Tell me about {concept}\")])"
   ]
  },
  {
   "cell_type": "code",
   "execution_count": 4,
   "id": "d01dc451-b6ce-4232-be30-5e6a61c82b36",
   "metadata": {},
   "outputs": [],
   "source": [
    "llm = ChatOpenAI()"
   ]
  },
  {
   "cell_type": "code",
   "execution_count": 5,
   "id": "a0055f86-0f80-418b-afec-c9756f0b8529",
   "metadata": {},
   "outputs": [
    {
     "name": "stderr",
     "output_type": "stream",
     "text": [
      "C:\\Users\\LotusBlue\\AppData\\Local\\Temp\\ipykernel_18664\\1305865249.py:1: LangChainDeprecationWarning: The class `LLMChain` was deprecated in LangChain 0.1.17 and will be removed in 1.0. Use :meth:`~RunnableSequence, e.g., `prompt | llm`` instead.\n",
      "  chain = LLMChain(llm=llm, prompt=prompt)\n"
     ]
    }
   ],
   "source": [
    "chain = LLMChain(llm=llm, prompt=prompt)"
   ]
  },
  {
   "cell_type": "code",
   "execution_count": 6,
   "id": "a882b440-f2d3-47e5-aed7-f4404a736da0",
   "metadata": {},
   "outputs": [
    {
     "data": {
      "text/plain": [
       "{'subject': 'Mathematics',\n",
       " 'concept': 'Calculus',\n",
       " 'text': 'Calculus is a branch of mathematics that deals with the study of rates of change and accumulation. It has two main branches: differential calculus and integral calculus.\\n\\nDifferential calculus is concerned with studying how quantities change with respect to one another. It involves concepts such as derivatives, which measure the rate at which a function is changing at a given point. Derivatives are used to solve problems involving rates of change, optimization, and graphing functions.\\n\\nIntegral calculus, on the other hand, deals with the accumulation of quantities. It involves calculating areas under curves, volumes of solids of revolution, and other applications related to accumulation. Integrals are used to solve problems involving area, volume, and finding the total change in a quantity.\\n\\nTogether, differential and integral calculus form the foundation of many branches of mathematics and have wide-ranging applications in science, engineering, economics, and other fields. Calculus is often considered to be one of the most important and fundamental areas of mathematics, and it provides powerful tools for analyzing and solving a wide range of real-world problems.'}"
      ]
     },
     "execution_count": 6,
     "metadata": {},
     "output_type": "execute_result"
    }
   ],
   "source": [
    "chain.invoke({\"subject\":\"Mathematics\",\"concept\":\"Calculus\"})"
   ]
  },
  {
   "cell_type": "code",
   "execution_count": 7,
   "id": "656f596a-5c03-459f-921f-4ab9b94ff7f8",
   "metadata": {},
   "outputs": [],
   "source": [
    "chain = LLMChain(llm=llm, prompt=prompt, verbose=True)"
   ]
  },
  {
   "cell_type": "code",
   "execution_count": 8,
   "id": "e588f9ff-a7d9-4e4b-845c-9d1ad31b5bc9",
   "metadata": {},
   "outputs": [
    {
     "name": "stdout",
     "output_type": "stream",
     "text": [
      "\n",
      "\n",
      "\u001b[1m> Entering new LLMChain chain...\u001b[0m\n",
      "Prompt after formatting:\n",
      "\u001b[32;1m\u001b[1;3mSystem: You are a Mathematics teacher\n",
      "Human: Tell me about Calculus\u001b[0m\n",
      "\n",
      "\u001b[1m> Finished chain.\u001b[0m\n"
     ]
    },
    {
     "data": {
      "text/plain": [
       "{'subject': 'Mathematics',\n",
       " 'concept': 'Calculus',\n",
       " 'text': 'Calculus is a branch of mathematics that deals with the study of rates of change and accumulation of quantities. It consists of two main branches: differential calculus and integral calculus.\\n\\nDifferential calculus focuses on the concept of derivatives, which represent the rate of change of a function at a given point. Derivatives can be used to find the slope of a curve, determine maximum and minimum points of a function, and analyze the behavior of functions.\\n\\nIntegral calculus, on the other hand, focuses on the concept of integrals, which represent the accumulation of quantities. Integrals can be used to find the area under a curve, calculate the total change of a function, and solve various real-world problems related to accumulating quantities.\\n\\nOverall, calculus plays a fundamental role in various fields such as physics, engineering, economics, and computer science, as it provides powerful tools for modeling and analyzing continuous processes and systems.'}"
      ]
     },
     "execution_count": 8,
     "metadata": {},
     "output_type": "execute_result"
    }
   ],
   "source": [
    "chain.invoke({\"subject\":\"Mathematics\",\"concept\":\"Calculus\"})"
   ]
  },
  {
   "cell_type": "code",
   "execution_count": null,
   "id": "0aa8f043-5235-4df6-a3a8-328d0dc5a667",
   "metadata": {},
   "outputs": [],
   "source": []
  }
 ],
 "metadata": {
  "kernelspec": {
   "display_name": "Python [conda env:base] *",
   "language": "python",
   "name": "conda-base-py"
  },
  "language_info": {
   "codemirror_mode": {
    "name": "ipython",
    "version": 3
   },
   "file_extension": ".py",
   "mimetype": "text/x-python",
   "name": "python",
   "nbconvert_exporter": "python",
   "pygments_lexer": "ipython3",
   "version": "3.12.7"
  }
 },
 "nbformat": 4,
 "nbformat_minor": 5
}
