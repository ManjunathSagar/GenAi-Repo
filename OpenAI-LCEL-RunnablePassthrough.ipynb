{
 "cells": [
  {
   "cell_type": "code",
   "execution_count": 1,
   "id": "2eeee785-f137-4d22-b52a-787b653f3825",
   "metadata": {},
   "outputs": [],
   "source": [
    "from langchain_core.output_parsers import StrOutputParser\n",
    "from langchain_core.prompts import ChatPromptTemplate\n",
    "from langchain_openai import ChatOpenAI\n",
    "from langchain_core.runnables import RunnablePassthrough\n",
    "import os"
   ]
  },
  {
   "cell_type": "code",
   "execution_count": 2,
   "id": "50fea5f9-f568-4ae6-82eb-1bb0410505ec",
   "metadata": {},
   "outputs": [],
   "source": [
    "#os.environ[\"OPENAI_API_KEY\"]=\"Put your OpenAI API Keys here\""
   ]
  },
  {
   "cell_type": "code",
   "execution_count": 3,
   "id": "1190ec43-c243-471a-910b-7a443888f72c",
   "metadata": {},
   "outputs": [],
   "source": [
    "title = (\n",
    "    ChatPromptTemplate.from_template(\n",
    "        \"Generate an impactful title for {input}\")\n",
    "    | ChatOpenAI()\n",
    "    | StrOutputParser()\n",
    "    | {\"title\": RunnablePassthrough()}\n",
    ")"
   ]
  },
  {
   "cell_type": "code",
   "execution_count": 4,
   "id": "0778c139-84f9-47fd-bb51-46cbc386aca6",
   "metadata": {},
   "outputs": [],
   "source": [
    "outline = (\n",
    "    ChatPromptTemplate.from_template(\n",
    "        \"Generate a detailed outline for {title}\"\n",
    "    )\n",
    "    | ChatOpenAI()\n",
    "    | StrOutputParser()\n",
    "    | {\"outline\": RunnablePassthrough()}\n",
    ")"
   ]
  },
  {
   "cell_type": "code",
   "execution_count": 5,
   "id": "f3dcea03-d529-4d21-a2a3-c7fb903d3049",
   "metadata": {},
   "outputs": [],
   "source": [
    "blog = (\n",
    "    ChatPromptTemplate.from_template(\n",
    "        \"Generate a 200 word blog post based on the outline: {outline}\"\n",
    "    )\n",
    "    | ChatOpenAI()\n",
    "    | StrOutputParser()\n",
    "    | {\"blog\": RunnablePassthrough()}\n",
    ")"
   ]
  },
  {
   "cell_type": "code",
   "execution_count": 6,
   "id": "47667cc7-25af-4b65-b216-1de6d7cc5582",
   "metadata": {},
   "outputs": [],
   "source": [
    "summary = (\n",
    "    ChatPromptTemplate.from_template(\n",
    "        \"Generate a summary for the post {blog}\"\n",
    "    )\n",
    "    | ChatOpenAI()\n",
    "    | StrOutputParser()\n",
    ")"
   ]
  },
  {
   "cell_type": "code",
   "execution_count": 7,
   "id": "d17b36f4-3ea7-4148-8ee1-96b92ab5e65d",
   "metadata": {},
   "outputs": [],
   "source": [
    "content_chain = title | outline | blog | summary"
   ]
  },
  {
   "cell_type": "code",
   "execution_count": 8,
   "id": "5a954204-2f16-45f7-8e85-f77f884f1544",
   "metadata": {},
   "outputs": [
    {
     "data": {
      "text/plain": [
       "'AI and automation have been reshaping the workforce for decades, creating both opportunities and challenges. The impact of automation on jobs is undeniable, leading to job displacement in various industries but also creating new opportunities in emerging fields. The gig economy and remote work are on the rise, offering flexibility but also posing challenges such as income instability. Lifelong learning and upskilling are essential for individuals to stay competitive in the job market. Governments and policymakers play a crucial role in addressing the impact of automation on jobs through initiatives such as Universal Basic Income and job training programs. Overall, adapting to the changing landscape of work in the age of AI is essential for a sustainable and inclusive future.'"
      ]
     },
     "execution_count": 8,
     "metadata": {},
     "output_type": "execute_result"
    }
   ],
   "source": [
    "content_chain.invoke({\"input\":\"The impact of AI on jobs\"})"
   ]
  },
  {
   "cell_type": "code",
   "execution_count": null,
   "id": "7f241b5c-9dfd-459a-bcd4-569815f757a3",
   "metadata": {},
   "outputs": [],
   "source": []
  }
 ],
 "metadata": {
  "kernelspec": {
   "display_name": "Python [conda env:base] *",
   "language": "python",
   "name": "conda-base-py"
  },
  "language_info": {
   "codemirror_mode": {
    "name": "ipython",
    "version": 3
   },
   "file_extension": ".py",
   "mimetype": "text/x-python",
   "name": "python",
   "nbconvert_exporter": "python",
   "pygments_lexer": "ipython3",
   "version": "3.12.7"
  }
 },
 "nbformat": 4,
 "nbformat_minor": 5
}
