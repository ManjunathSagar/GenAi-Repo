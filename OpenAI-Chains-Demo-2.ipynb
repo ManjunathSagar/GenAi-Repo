{
 "cells": [
  {
   "cell_type": "code",
   "execution_count": 1,
   "id": "2710fa46-de82-443a-8926-33214a7efdd4",
   "metadata": {},
   "outputs": [
    {
     "name": "stderr",
     "output_type": "stream",
     "text": [
      "USER_AGENT environment variable not set, consider setting it to identify your requests.\n"
     ]
    }
   ],
   "source": [
    "from langchain_core.prompts import PromptTemplate\n",
    "from langchain_openai import ChatOpenAI\n",
    "from langchain_openai import OpenAIEmbeddings\n",
    "from langchain_community.document_loaders import WebBaseLoader\n",
    "from langchain.text_splitter import RecursiveCharacterTextSplitter\n",
    "from langchain.chains.combine_documents import create_stuff_documents_chain\n",
    "from langchain.chains import create_retrieval_chain\n",
    "from langchain_community.vectorstores import FAISS\n",
    "import os"
   ]
  },
  {
   "cell_type": "code",
   "execution_count": 2,
   "id": "f1719c3f-2003-4880-9b6a-2b4e0275c473",
   "metadata": {},
   "outputs": [],
   "source": [
    "#os.environ[\"OPENAI_API_KEY\"]=\"Put your OpenAI API Keys here\""
   ]
  },
  {
   "cell_type": "code",
   "execution_count": 3,
   "id": "1d104ea2-9ec4-4702-913e-e2d4efc0908c",
   "metadata": {},
   "outputs": [],
   "source": [
    "URL1=\"https://techcrunch.com/2024/03/04/anthropic-claims-its-new-models-beat-gpt-4/\"\n",
    "URL2=\"https://techcrunch.com/2024/03/28/ai21-labs-new-text-generating-ai-model-is-more-efficient-than-most/\""
   ]
  },
  {
   "cell_type": "code",
   "execution_count": 4,
   "id": "afc601e5-bc2b-49e9-a955-b2c8ecf453ae",
   "metadata": {},
   "outputs": [],
   "source": [
    "loader = WebBaseLoader([URL1, URL2])\n",
    "data = loader.load()"
   ]
  },
  {
   "cell_type": "code",
   "execution_count": 5,
   "id": "94241db3-b57a-49b7-bb87-0d5956e79e8b",
   "metadata": {},
   "outputs": [],
   "source": [
    "text_splitter = RecursiveCharacterTextSplitter(chunk_size=200, chunk_overlap=50)\n",
    "chunks = text_splitter.split_documents(data)"
   ]
  },
  {
   "cell_type": "code",
   "execution_count": 6,
   "id": "548c1583-8740-4141-b40c-2d09e1207df4",
   "metadata": {},
   "outputs": [],
   "source": [
    "embeddings = OpenAIEmbeddings(model=\"text-embedding-3-large\")"
   ]
  },
  {
   "cell_type": "code",
   "execution_count": 7,
   "id": "4de67f16-3195-49d4-a36e-9978a1c0cc3c",
   "metadata": {},
   "outputs": [],
   "source": [
    "vector = FAISS.from_documents(chunks, embeddings)\n",
    "retriever = vector.as_retriever()"
   ]
  },
  {
   "cell_type": "code",
   "execution_count": 8,
   "id": "c1b46a36-7296-442d-aa48-c6c0e0c1e698",
   "metadata": {},
   "outputs": [],
   "source": [
    "prompt_template = \"\"\"\n",
    "    Answer the question {input} based solely on the context below:\n",
    "    \\n\\n'<context>\\n{context}\\n</context>'\n",
    "    If you can't find an answer, say I don't know.\n",
    "    \"\"\"\n",
    "prompt = PromptTemplate.from_template(prompt_template)"
   ]
  },
  {
   "cell_type": "code",
   "execution_count": 9,
   "id": "7737114c-5c40-4299-9fb6-d34c2f796d43",
   "metadata": {},
   "outputs": [],
   "source": [
    "llm = ChatOpenAI(model=\"gpt-3.5-turbo\", temperature=0.0)"
   ]
  },
  {
   "cell_type": "code",
   "execution_count": 10,
   "id": "518b9205-9dd6-4065-bc87-2e53903b11cb",
   "metadata": {},
   "outputs": [],
   "source": [
    "combine_docs_chain = create_stuff_documents_chain(llm, prompt)"
   ]
  },
  {
   "cell_type": "code",
   "execution_count": 11,
   "id": "adc23772-43f3-488e-9d16-f7a509e18b3b",
   "metadata": {},
   "outputs": [],
   "source": [
    "chain = create_retrieval_chain(retriever, combine_docs_chain)"
   ]
  },
  {
   "cell_type": "code",
   "execution_count": 12,
   "id": "d0a3187f-d411-4df3-8d6f-1b01afc13db1",
   "metadata": {},
   "outputs": [],
   "source": [
    "result = chain.invoke({\"input\": \"List the models and their token size of models only from Anthropic and Meta\"})"
   ]
  },
  {
   "cell_type": "code",
   "execution_count": 13,
   "id": "be8f8ade-2573-4431-91d5-4d0edc79baf4",
   "metadata": {},
   "outputs": [
    {
     "name": "stdout",
     "output_type": "stream",
     "text": [
      "- Anthropic: Claude 3 (200,000-token context window)\n",
      "- Meta: Llama 2 (~4,000-token context window)\n",
      "- Meta: Gemini 1.5 Pro (up to a million-token context window)\n",
      "\n",
      "I don't know.\n"
     ]
    }
   ],
   "source": [
    "print(result['answer'])"
   ]
  },
  {
   "cell_type": "code",
   "execution_count": null,
   "id": "dd2f3c5f-805f-4d65-ac11-8963bb8cb635",
   "metadata": {},
   "outputs": [],
   "source": []
  }
 ],
 "metadata": {
  "kernelspec": {
   "display_name": "Python [conda env:base] *",
   "language": "python",
   "name": "conda-base-py"
  },
  "language_info": {
   "codemirror_mode": {
    "name": "ipython",
    "version": 3
   },
   "file_extension": ".py",
   "mimetype": "text/x-python",
   "name": "python",
   "nbconvert_exporter": "python",
   "pygments_lexer": "ipython3",
   "version": "3.12.7"
  }
 },
 "nbformat": 4,
 "nbformat_minor": 5
}
