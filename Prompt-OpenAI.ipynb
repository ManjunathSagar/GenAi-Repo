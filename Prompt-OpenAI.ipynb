{
 "cells": [
  {
   "cell_type": "code",
   "execution_count": 1,
   "id": "67da1a12",
   "metadata": {},
   "outputs": [],
   "source": [
    "from langchain_openai import ChatOpenAI\n",
    "from langchain.prompts import HumanMessagePromptTemplate\n",
    "from langchain.prompts import SystemMessagePromptTemplate\n",
    "from langchain.prompts import ChatPromptTemplate\n",
    "import os"
   ]
  },
  {
   "cell_type": "code",
   "execution_count": 2,
   "id": "3ed68bbb",
   "metadata": {},
   "outputs": [],
   "source": [
    "#os.environ[\"OPENAI_API_\"]=\"Put your OpenAI API Keys here\""
   ]
  },
  {
   "cell_type": "code",
   "execution_count": 3,
   "id": "a316399b",
   "metadata": {},
   "outputs": [],
   "source": [
    "sys_msg = \"You are a {subject} teacher\"\n",
    "human_msg = \"Tell me about {concept}\""
   ]
  },
  {
   "cell_type": "code",
   "execution_count": 4,
   "id": "e24b990a",
   "metadata": {},
   "outputs": [],
   "source": [
    "prompt_template = ChatPromptTemplate.from_messages([(\"system\", sys_msg), (\"human\", human_msg)])"
   ]
  },
  {
   "cell_type": "code",
   "execution_count": 5,
   "id": "7a7043a3",
   "metadata": {},
   "outputs": [],
   "source": [
    "prompt = prompt_template.format_messages(subject=\"Chemistry\", concept=\"Periodic Table\")"
   ]
  },
  {
   "cell_type": "code",
   "execution_count": 6,
   "id": "a5713f5d",
   "metadata": {},
   "outputs": [],
   "source": [
    "model = ChatOpenAI()\n",
    "response = model.invoke(prompt)"
   ]
  },
  {
   "cell_type": "code",
   "execution_count": 7,
   "id": "93e8722d",
   "metadata": {
    "scrolled": true
   },
   "outputs": [
    {
     "name": "stdout",
     "output_type": "stream",
     "text": [
      "The Periodic Table is a tabular arrangement of the chemical elements, organized according to their atomic number, electron configuration, and recurring chemical properties. The table is divided into groups (columns) and periods (rows) based on similarities in chemical properties. \n",
      "\n",
      "Each element is represented by a unique chemical symbol, typically one or two letters. The elements are arranged in order of increasing atomic number, which is the number of protons in the nucleus of an atom. Elements in the same group have similar chemical properties because they have the same number of valence electrons.\n",
      "\n",
      "The Periodic Table was first developed by Dmitri Mendeleev in 1869 and has since been expanded and refined. It is an essential tool in chemistry for predicting the behavior of elements and understanding their relationships. The periodic trends such as atomic radius, ionization energy, and electronegativity can also be easily observed on the table.\n",
      "\n",
      "Overall, the Periodic Table is a fundamental concept in chemistry that organizes the elements and helps us make sense of the vast diversity of chemical substances in the world.\n"
     ]
    }
   ],
   "source": [
    "print(response.content)"
   ]
  },
  {
   "cell_type": "code",
   "execution_count": null,
   "id": "ab5cb0a1",
   "metadata": {},
   "outputs": [],
   "source": []
  }
 ],
 "metadata": {
  "kernelspec": {
   "display_name": "Python 3 (ipykernel)",
   "language": "python",
   "name": "python3"
  },
  "language_info": {
   "codemirror_mode": {
    "name": "ipython",
    "version": 3
   },
   "file_extension": ".py",
   "mimetype": "text/x-python",
   "name": "python",
   "nbconvert_exporter": "python",
   "pygments_lexer": "ipython3",
   "version": "3.9.12"
  }
 },
 "nbformat": 4,
 "nbformat_minor": 5
}
