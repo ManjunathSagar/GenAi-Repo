{
 "cells": [
  {
   "cell_type": "code",
   "execution_count": 1,
   "id": "4f48a057-1b1d-470d-a996-9d8c172e70bb",
   "metadata": {},
   "outputs": [],
   "source": [
    "from langchain_openai import ChatOpenAI\n",
    "from langchain.prompts import ChatPromptTemplate\n",
    "from langchain.chains import LLMChain\n",
    "import os"
   ]
  },
  {
   "cell_type": "code",
   "execution_count": 2,
   "id": "034e999d-2d6d-42e4-8abd-0849ca81b2f5",
   "metadata": {},
   "outputs": [],
   "source": [
    "#os.environ[\"OPENAI_API_\"]=\"Put your OpenAI API Keys here\""
   ]
  },
  {
   "cell_type": "code",
   "execution_count": 3,
   "id": "cecdd35a-e04f-47b0-95a8-6c1812d7f1d5",
   "metadata": {},
   "outputs": [],
   "source": [
    "from langchain.globals import set_debug\n",
    "set_debug(True)"
   ]
  },
  {
   "cell_type": "code",
   "execution_count": 4,
   "id": "5a852acd-2143-4bd9-916c-4c633e55a12a",
   "metadata": {},
   "outputs": [],
   "source": [
    "prompt=ChatPromptTemplate.from_messages([(\"system\",\"You are a {subject} teacher\"),\n",
    "                                         (\"human\",\"Tell me about {concept}\")])"
   ]
  },
  {
   "cell_type": "code",
   "execution_count": 5,
   "id": "ef5dfde1-4633-4adc-8b61-0e080c70200d",
   "metadata": {},
   "outputs": [],
   "source": [
    "llm = ChatOpenAI()"
   ]
  },
  {
   "cell_type": "code",
   "execution_count": 6,
   "id": "591b41af-becc-428e-90d5-7fce23a1cc25",
   "metadata": {},
   "outputs": [
    {
     "name": "stderr",
     "output_type": "stream",
     "text": [
      "C:\\Users\\LotusBlue\\AppData\\Local\\Temp\\ipykernel_21112\\1305865249.py:1: LangChainDeprecationWarning: The class `LLMChain` was deprecated in LangChain 0.1.17 and will be removed in 1.0. Use :meth:`~RunnableSequence, e.g., `prompt | llm`` instead.\n",
      "  chain = LLMChain(llm=llm, prompt=prompt)\n"
     ]
    }
   ],
   "source": [
    "chain = LLMChain(llm=llm, prompt=prompt)"
   ]
  },
  {
   "cell_type": "code",
   "execution_count": 7,
   "id": "3d537f66-2309-4956-98ca-7f7699ab51b7",
   "metadata": {},
   "outputs": [
    {
     "name": "stdout",
     "output_type": "stream",
     "text": [
      "\u001b[32;1m\u001b[1;3m[chain/start]\u001b[0m \u001b[1m[chain:LLMChain] Entering Chain run with input:\n",
      "\u001b[0m{\n",
      "  \"subject\": \"chemistry\",\n",
      "  \"concept\": \"titration\"\n",
      "}\n",
      "\u001b[32;1m\u001b[1;3m[llm/start]\u001b[0m \u001b[1m[chain:LLMChain > llm:ChatOpenAI] Entering LLM run with input:\n",
      "\u001b[0m{\n",
      "  \"prompts\": [\n",
      "    \"System: You are a chemistry teacher\\nHuman: Tell me about titration\"\n",
      "  ]\n",
      "}\n",
      "\u001b[36;1m\u001b[1;3m[llm/end]\u001b[0m \u001b[1m[chain:LLMChain > llm:ChatOpenAI] [1.99s] Exiting LLM run with output:\n",
      "\u001b[0m{\n",
      "  \"generations\": [\n",
      "    [\n",
      "      {\n",
      "        \"text\": \"Titration is a common technique used in chemistry to determine the concentration of an unknown solution by reacting it with a known concentration of another solution. The solution of known concentration is called the titrant, while the solution of unknown concentration is called the analyte.\\n\\nDuring a titration, a burette is used to carefully add the titrant to the analyte until the reaction is complete. This is often monitored using an indicator that changes color when the reaction reaches its endpoint. The point at which stoichiometrically equivalent amounts of the titrant and analyte have reacted is known as the equivalence point.\\n\\nBy knowing the volume and concentration of the titrant, and the volume of the analyte used, one can calculate the concentration of the analyte through stoichiometry. Titration is used in a wide range of applications, including determining the concentration of acids and bases, measuring the purity of chemicals, and analyzing pharmaceuticals and foods.\",\n",
      "        \"generation_info\": {\n",
      "          \"finish_reason\": \"stop\",\n",
      "          \"logprobs\": null\n",
      "        },\n",
      "        \"type\": \"ChatGeneration\",\n",
      "        \"message\": {\n",
      "          \"lc\": 1,\n",
      "          \"type\": \"constructor\",\n",
      "          \"id\": [\n",
      "            \"langchain\",\n",
      "            \"schema\",\n",
      "            \"messages\",\n",
      "            \"AIMessage\"\n",
      "          ],\n",
      "          \"kwargs\": {\n",
      "            \"content\": \"Titration is a common technique used in chemistry to determine the concentration of an unknown solution by reacting it with a known concentration of another solution. The solution of known concentration is called the titrant, while the solution of unknown concentration is called the analyte.\\n\\nDuring a titration, a burette is used to carefully add the titrant to the analyte until the reaction is complete. This is often monitored using an indicator that changes color when the reaction reaches its endpoint. The point at which stoichiometrically equivalent amounts of the titrant and analyte have reacted is known as the equivalence point.\\n\\nBy knowing the volume and concentration of the titrant, and the volume of the analyte used, one can calculate the concentration of the analyte through stoichiometry. Titration is used in a wide range of applications, including determining the concentration of acids and bases, measuring the purity of chemicals, and analyzing pharmaceuticals and foods.\",\n",
      "            \"additional_kwargs\": {\n",
      "              \"refusal\": null\n",
      "            },\n",
      "            \"response_metadata\": {\n",
      "              \"token_usage\": {\n",
      "                \"completion_tokens\": 188,\n",
      "                \"prompt_tokens\": 21,\n",
      "                \"total_tokens\": 209,\n",
      "                \"completion_tokens_details\": {\n",
      "                  \"accepted_prediction_tokens\": 0,\n",
      "                  \"audio_tokens\": 0,\n",
      "                  \"reasoning_tokens\": 0,\n",
      "                  \"rejected_prediction_tokens\": 0\n",
      "                },\n",
      "                \"prompt_tokens_details\": {\n",
      "                  \"audio_tokens\": 0,\n",
      "                  \"cached_tokens\": 0\n",
      "                }\n",
      "              },\n",
      "              \"model_name\": \"gpt-3.5-turbo-0125\",\n",
      "              \"system_fingerprint\": null,\n",
      "              \"finish_reason\": \"stop\",\n",
      "              \"logprobs\": null\n",
      "            },\n",
      "            \"type\": \"ai\",\n",
      "            \"id\": \"run-66f2750e-4571-4a42-ba5d-4432dd090cc4-0\",\n",
      "            \"usage_metadata\": {\n",
      "              \"input_tokens\": 21,\n",
      "              \"output_tokens\": 188,\n",
      "              \"total_tokens\": 209,\n",
      "              \"input_token_details\": {\n",
      "                \"audio\": 0,\n",
      "                \"cache_read\": 0\n",
      "              },\n",
      "              \"output_token_details\": {\n",
      "                \"audio\": 0,\n",
      "                \"reasoning\": 0\n",
      "              }\n",
      "            },\n",
      "            \"tool_calls\": [],\n",
      "            \"invalid_tool_calls\": []\n",
      "          }\n",
      "        }\n",
      "      }\n",
      "    ]\n",
      "  ],\n",
      "  \"llm_output\": {\n",
      "    \"token_usage\": {\n",
      "      \"completion_tokens\": 188,\n",
      "      \"prompt_tokens\": 21,\n",
      "      \"total_tokens\": 209,\n",
      "      \"completion_tokens_details\": {\n",
      "        \"accepted_prediction_tokens\": 0,\n",
      "        \"audio_tokens\": 0,\n",
      "        \"reasoning_tokens\": 0,\n",
      "        \"rejected_prediction_tokens\": 0\n",
      "      },\n",
      "      \"prompt_tokens_details\": {\n",
      "        \"audio_tokens\": 0,\n",
      "        \"cached_tokens\": 0\n",
      "      }\n",
      "    },\n",
      "    \"model_name\": \"gpt-3.5-turbo-0125\",\n",
      "    \"system_fingerprint\": null\n",
      "  },\n",
      "  \"run\": null,\n",
      "  \"type\": \"LLMResult\"\n",
      "}\n",
      "\u001b[36;1m\u001b[1;3m[chain/end]\u001b[0m \u001b[1m[chain:LLMChain] [1.99s] Exiting Chain run with output:\n",
      "\u001b[0m{\n",
      "  \"text\": \"Titration is a common technique used in chemistry to determine the concentration of an unknown solution by reacting it with a known concentration of another solution. The solution of known concentration is called the titrant, while the solution of unknown concentration is called the analyte.\\n\\nDuring a titration, a burette is used to carefully add the titrant to the analyte until the reaction is complete. This is often monitored using an indicator that changes color when the reaction reaches its endpoint. The point at which stoichiometrically equivalent amounts of the titrant and analyte have reacted is known as the equivalence point.\\n\\nBy knowing the volume and concentration of the titrant, and the volume of the analyte used, one can calculate the concentration of the analyte through stoichiometry. Titration is used in a wide range of applications, including determining the concentration of acids and bases, measuring the purity of chemicals, and analyzing pharmaceuticals and foods.\"\n",
      "}\n"
     ]
    },
    {
     "data": {
      "text/plain": [
       "{'subject': 'chemistry',\n",
       " 'concept': 'titration',\n",
       " 'text': 'Titration is a common technique used in chemistry to determine the concentration of an unknown solution by reacting it with a known concentration of another solution. The solution of known concentration is called the titrant, while the solution of unknown concentration is called the analyte.\\n\\nDuring a titration, a burette is used to carefully add the titrant to the analyte until the reaction is complete. This is often monitored using an indicator that changes color when the reaction reaches its endpoint. The point at which stoichiometrically equivalent amounts of the titrant and analyte have reacted is known as the equivalence point.\\n\\nBy knowing the volume and concentration of the titrant, and the volume of the analyte used, one can calculate the concentration of the analyte through stoichiometry. Titration is used in a wide range of applications, including determining the concentration of acids and bases, measuring the purity of chemicals, and analyzing pharmaceuticals and foods.'}"
      ]
     },
     "execution_count": 7,
     "metadata": {},
     "output_type": "execute_result"
    }
   ],
   "source": [
    "chain.invoke({\"subject\":\"chemistry\",\"concept\":\"titration\"})"
   ]
  },
  {
   "cell_type": "code",
   "execution_count": null,
   "id": "353e5dfa-7d8e-4a21-a045-a91bc55c20e5",
   "metadata": {},
   "outputs": [],
   "source": []
  }
 ],
 "metadata": {
  "kernelspec": {
   "display_name": "Python [conda env:base] *",
   "language": "python",
   "name": "conda-base-py"
  },
  "language_info": {
   "codemirror_mode": {
    "name": "ipython",
    "version": 3
   },
   "file_extension": ".py",
   "mimetype": "text/x-python",
   "name": "python",
   "nbconvert_exporter": "python",
   "pygments_lexer": "ipython3",
   "version": "3.12.7"
  }
 },
 "nbformat": 4,
 "nbformat_minor": 5
}
